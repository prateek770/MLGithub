{
 "cells": [
  {
   "cell_type": "code",
   "execution_count": 1,
   "metadata": {},
   "outputs": [],
   "source": [
    "import pandas as pd\n",
    "import os\n",
    "import numpy as np"
   ]
  },
  {
   "cell_type": "code",
   "execution_count": 77,
   "metadata": {},
   "outputs": [],
   "source": [
    "df = pd.read_excel('Edison_dataset.xlsx', index_col=0) "
   ]
  },
  {
   "cell_type": "code",
   "execution_count": 78,
   "metadata": {},
   "outputs": [],
   "source": [
    "#df.drop('Finmo Submit Date', inplace=True, axis=1)"
   ]
  },
  {
   "cell_type": "code",
   "execution_count": 79,
   "metadata": {},
   "outputs": [],
   "source": [
    "#df.drop('LeadSource', inplace=True, axis=1)"
   ]
  },
  {
   "cell_type": "markdown",
   "metadata": {},
   "source": [
    "#### df"
   ]
  },
  {
   "cell_type": "code",
   "execution_count": 81,
   "metadata": {},
   "outputs": [
    {
     "data": {
      "text/plain": [
       "Finmo Submit Date                     46891\n",
       "JumpstartFlag                             0\n",
       "IsFirstTimeBuyer__c                       0\n",
       "LoanAmount__c                          1705\n",
       "Loan Amount (50k Bins)                 1495\n",
       "LoanPurpose__c                            0\n",
       "PropertyCity__c                       36563\n",
       "PropertyPostalCode__c                 38313\n",
       "PropertyProvince__c                    7590\n",
       "PurchasePrice__c                      26253\n",
       "PurchaseTimeframe__c                  15004\n",
       "SelfAssessedCreditRating__c           29594\n",
       "Source                                   18\n",
       "# of dials to allocate                39976\n",
       "LeadDate                                  0\n",
       "AllocateDate                          17750\n",
       "Credit FirstStatusDate                37251\n",
       "PAL FirstStatusDate                   45900\n",
       "Presentation FirstStatusDate          46886\n",
       "ApplicationStarted FirstStatusDate    45417\n",
       "SubmitToLender FirstStatusDate        45543\n",
       "dtype: int64"
      ]
     },
     "execution_count": 81,
     "metadata": {},
     "output_type": "execute_result"
    }
   ],
   "source": [
    "df.isnull().sum()"
   ]
  },
  {
   "cell_type": "code",
   "execution_count": 82,
   "metadata": {},
   "outputs": [
    {
     "data": {
      "text/plain": [
       "(47511, 21)"
      ]
     },
     "execution_count": 82,
     "metadata": {},
     "output_type": "execute_result"
    }
   ],
   "source": [
    "df.shape"
   ]
  },
  {
   "cell_type": "code",
   "execution_count": 83,
   "metadata": {},
   "outputs": [],
   "source": [
    "#create new columns in df to find of the difference between stages in the application process\n",
    "df['Lead_Allocate_DD']=df['AllocateDate']-df['LeadDate']\n",
    "df['Allocate_Credit_DD']=df['Credit FirstStatusDate']-df['AllocateDate']\n",
    "df['Credit_PAL_DD']=df['PAL FirstStatusDate']-df['Credit FirstStatusDate']\n",
    "df['PAL_Present_DD']=df['Presentation FirstStatusDate']-df['PAL FirstStatusDate']\n",
    "df['Present_App_DD']=df['ApplicationStarted FirstStatusDate']-df['Presentation FirstStatusDate']\n",
    "df['App_Submit_DD']=df['SubmitToLender FirstStatusDate']-df['ApplicationStarted FirstStatusDate']"
   ]
  },
  {
   "cell_type": "code",
   "execution_count": 84,
   "metadata": {},
   "outputs": [],
   "source": [
    "df['Lead_Allocate_DD']=df['Lead_Allocate_DD']/np.timedelta64(1,'D')\n",
    "df['Allocate_Credit_DD']=df['Allocate_Credit_DD']/np.timedelta64(1,'D')\n",
    "df['Credit_PAL_DD']=df['Credit_PAL_DD']/np.timedelta64(1,'D')\n",
    "df['PAL_Present_DD']=df['PAL_Present_DD']/np.timedelta64(1,'D')\n",
    "df['Present_App_DD']=df['Present_App_DD']/np.timedelta64(1,'D')\n",
    "df['App_Submit_DD']=df['App_Submit_DD']/np.timedelta64(1,'D')"
   ]
  },
  {
   "cell_type": "code",
   "execution_count": 85,
   "metadata": {},
   "outputs": [],
   "source": [
    "# making a list of date variables to convert to either 1 or -1 if they are non-null or null respecctively.\n",
    "date_columns = ['Finmo Submit Date','LeadDate','AllocateDate','Credit FirstStatusDate','PAL FirstStatusDate','Presentation FirstStatusDate','ApplicationStarted FirstStatusDate','SubmitToLender FirstStatusDate']"
   ]
  },
  {
   "cell_type": "code",
   "execution_count": 86,
   "metadata": {},
   "outputs": [
    {
     "name": "stderr",
     "output_type": "stream",
     "text": [
      "C:\\Users\\KrishnaSurendra\\anaconda3\\lib\\site-packages\\pandas\\core\\indexing.py:205: SettingWithCopyWarning: \n",
      "A value is trying to be set on a copy of a slice from a DataFrame\n",
      "\n",
      "See the caveats in the documentation: http://pandas.pydata.org/pandas-docs/stable/user_guide/indexing.html#returning-a-view-versus-a-copy\n",
      "  self._setitem_with_indexer(indexer, value)\n"
     ]
    }
   ],
   "source": [
    "# convert to either 1 or -1 if they are non-null or null respecctively.\n",
    "for i in date_columns:\n",
    "    df[i].loc[~df[i].isnull()] = 1  # not nan\n",
    "    df[i].loc[df[i].isnull()] = -1   # nan"
   ]
  },
  {
   "cell_type": "code",
   "execution_count": 87,
   "metadata": {},
   "outputs": [],
   "source": [
    "# making a list of date_difference variables to convert to -1 if they are null.\n",
    "dd_columns=['Lead_Allocate_DD','Allocate_Credit_DD','Credit_PAL_DD','PAL_Present_DD','Present_App_DD','App_Submit_DD']"
   ]
  },
  {
   "cell_type": "code",
   "execution_count": 88,
   "metadata": {},
   "outputs": [],
   "source": [
    "# to convert to -1 if they are null.\n",
    "for j in dd_columns:\n",
    "    df[j].loc[df[j].isnull()] = -1  # nan"
   ]
  },
  {
   "cell_type": "code",
   "execution_count": 89,
   "metadata": {},
   "outputs": [],
   "source": [
    "# making a list of object variables to convert 'unknown' if they are null.\n",
    "object_columns = ['PropertyCity__c','PropertyPostalCode__c','PropertyProvince__c','PurchaseTimeframe__c','SelfAssessedCreditRating__c','Source']"
   ]
  },
  {
   "cell_type": "code",
   "execution_count": 90,
   "metadata": {},
   "outputs": [],
   "source": [
    "# to convert to 'unknown' if they are null.\n",
    "for k in object_columns:\n",
    "    df[k].loc[df[k].isnull()] = 'unknown'"
   ]
  },
  {
   "cell_type": "code",
   "execution_count": 91,
   "metadata": {},
   "outputs": [],
   "source": [
    "# making a list of float variables to convert to -1 if they are null and converting them.\n",
    "float_columns=['LoanAmount__c','Loan Amount (50k Bins)','PurchasePrice__c','# of dials to allocate']\n",
    "for l in float_columns:\n",
    "    df[l].loc[df[l].isnull()] = -1"
   ]
  },
  {
   "cell_type": "code",
   "execution_count": 92,
   "metadata": {},
   "outputs": [],
   "source": [
    "#converting the categorical variables into categorical codes for the model to process\n",
    "\n",
    "df['LoanPurpose__c']=df['LoanPurpose__c'].astype('category')\n",
    "df['LoanPurpose__c']=df['LoanPurpose__c'].cat.codes\n",
    "df['PropertyCity__c']=df['PropertyCity__c'].astype('category')\n",
    "df['PropertyCity__c']=df['PropertyCity__c'].cat.codes\n",
    "df['PropertyPostalCode__c']=df['PropertyPostalCode__c'].astype('category')\n",
    "df['PropertyPostalCode__c']=df['PropertyPostalCode__c'].cat.codes\n",
    "df['PurchaseTimeframe__c']=df['PurchaseTimeframe__c'].astype('category')\n",
    "df['PurchaseTimeframe__c']=df['PurchaseTimeframe__c'].cat.codes\n",
    "df['SelfAssessedCreditRating__c']=df['SelfAssessedCreditRating__c'].astype('category')\n",
    "df['SelfAssessedCreditRating__c']=df['SelfAssessedCreditRating__c'].cat.codes\n",
    "df['Source']=df['Source'].astype('category')\n",
    "df['Source']=df['Source'].cat.codes\n",
    "df['PropertyProvince__c']=df['PropertyProvince__c'].astype('category')\n",
    "df['PropertyProvince__c']=df['PropertyProvince__c'].cat.codes"
   ]
  },
  {
   "cell_type": "code",
   "execution_count": 162,
   "metadata": {},
   "outputs": [],
   "source": [
    "DD_less_than_neg_one = ['Lead_Allocate_DD','Allocate_Credit_DD','Credit_PAL_DD','PAL_Present_DD','Present_App_DD','App_Submit_DD']"
   ]
  },
  {
   "cell_type": "code",
   "execution_count": 166,
   "metadata": {},
   "outputs": [],
   "source": [
    "for cols in DD_less_than_neg_one:\n",
    "    df.drop(index=df[df[cols] <= -2].index,inplace=True)"
   ]
  },
  {
   "cell_type": "code",
   "execution_count": 168,
   "metadata": {},
   "outputs": [
    {
     "data": {
      "text/plain": [
       "(47378, 27)"
      ]
     },
     "execution_count": 168,
     "metadata": {},
     "output_type": "execute_result"
    }
   ],
   "source": [
    "df.shape"
   ]
  },
  {
   "cell_type": "code",
   "execution_count": 175,
   "metadata": {},
   "outputs": [],
   "source": [
    "df.to_csv('Edision_cleaned.csv', encoding='utf-8', index=False)"
   ]
  },
  {
   "cell_type": "code",
   "execution_count": 176,
   "metadata": {},
   "outputs": [],
   "source": [
    "# Differentiating Feature variables and target variable\n",
    "feature_cols = ['Finmo Submit Date', 'JumpstartFlag', 'IsFirstTimeBuyer__c',\n",
    "       'LoanAmount__c', 'Loan Amount (50k Bins)', 'LoanPurpose__c',\n",
    "       'PropertyCity__c', 'PropertyPostalCode__c', 'PropertyProvince__c',\n",
    "       'PurchasePrice__c', 'PurchaseTimeframe__c',\n",
    "       'SelfAssessedCreditRating__c', 'Source', '# of dials to allocate',\n",
    "       'LeadDate', 'AllocateDate', 'Credit FirstStatusDate',\n",
    "       'PAL FirstStatusDate', 'Presentation FirstStatusDate',\n",
    "       'ApplicationStarted FirstStatusDate',\n",
    "       'Lead_Allocate_DD', 'Allocate_Credit_DD', 'Credit_PAL_DD',\n",
    "       'PAL_Present_DD', 'Present_App_DD', 'App_Submit_DD']\n",
    "x=df[feature_cols]\n",
    "y=df['SubmitToLender FirstStatusDate']"
   ]
  },
  {
   "cell_type": "code",
   "execution_count": 177,
   "metadata": {},
   "outputs": [],
   "source": [
    "# import libraries\n",
    "from sklearn.tree import DecisionTreeClassifier \n",
    "from sklearn.model_selection import train_test_split \n",
    "from sklearn import metrics\n",
    "from sklearn.metrics import plot_confusion_matrix"
   ]
  },
  {
   "cell_type": "code",
   "execution_count": 178,
   "metadata": {},
   "outputs": [],
   "source": [
    "x_train, x_test, y_train, y_test = train_test_split(x, y, test_size=0.2, random_state=1)"
   ]
  },
  {
   "cell_type": "code",
   "execution_count": 179,
   "metadata": {},
   "outputs": [],
   "source": [
    "\n",
    "\n",
    "# Create Decision Tree classifer object\n",
    "clf = DecisionTreeClassifier()\n",
    "\n",
    "# Train Decision Tree Classifer\n",
    "clf = clf.fit(x_train,y_train)\n",
    "\n",
    "#Predict the response for test dataset\n",
    "y_pred = clf.predict(x_test)"
   ]
  },
  {
   "cell_type": "code",
   "execution_count": 180,
   "metadata": {},
   "outputs": [
    {
     "name": "stdout",
     "output_type": "stream",
     "text": [
      "Accuracy: 0.9909244406922753\n"
     ]
    }
   ],
   "source": [
    "print(\"Accuracy:\",metrics.accuracy_score(y_test, y_pred))"
   ]
  },
  {
   "cell_type": "code",
   "execution_count": 181,
   "metadata": {},
   "outputs": [
    {
     "name": "stdout",
     "output_type": "stream",
     "text": [
      "[[9043   52]\n",
      " [  34  347]]\n",
      "              precision    recall  f1-score   support\n",
      "\n",
      "          -1       1.00      0.99      1.00      9095\n",
      "           1       0.87      0.91      0.89       381\n",
      "\n",
      "    accuracy                           0.99      9476\n",
      "   macro avg       0.93      0.95      0.94      9476\n",
      "weighted avg       0.99      0.99      0.99      9476\n",
      "\n"
     ]
    }
   ],
   "source": [
    "from sklearn.metrics import classification_report, confusion_matrix\n",
    "print(confusion_matrix(y_test, y_pred))\n",
    "print(classification_report(y_test, y_pred))"
   ]
  },
  {
   "cell_type": "code",
   "execution_count": 183,
   "metadata": {},
   "outputs": [
    {
     "name": "stdout",
     "output_type": "stream",
     "text": [
      "score on test: 0.9597931616715913\n",
      "score on train: 0.959131444250963\n"
     ]
    }
   ],
   "source": [
    "# Logistic Regression\n",
    "from sklearn.linear_model import LogisticRegression\n",
    "lr=LogisticRegression(max_iter=1000)\n",
    "lr.fit(x_train, y_train)\n",
    "print(\"score on test: \" + str(lr.score(x_test, y_test)))\n",
    "print(\"score on train: \"+ str(lr.score(x_train, y_train)))"
   ]
  },
  {
   "cell_type": "code",
   "execution_count": 184,
   "metadata": {},
   "outputs": [
    {
     "name": "stderr",
     "output_type": "stream",
     "text": [
      "C:\\Users\\KrishnaSurendra\\anaconda3\\lib\\site-packages\\sklearn\\utils\\deprecation.py:87: FutureWarning: Function plot_confusion_matrix is deprecated; Function `plot_confusion_matrix` is deprecated in 1.0 and will be removed in 1.2. Use one of the class methods: ConfusionMatrixDisplay.from_predictions or ConfusionMatrixDisplay.from_estimator.\n",
      "  warnings.warn(msg, category=FutureWarning)\n"
     ]
    },
    {
     "data": {
      "text/plain": [
       "<sklearn.metrics._plot.confusion_matrix.ConfusionMatrixDisplay at 0x210bd589f70>"
      ]
     },
     "execution_count": 184,
     "metadata": {},
     "output_type": "execute_result"
    },
    {
     "data": {
      "image/png": "[encoded data removed]",
      "text/plain": [
       "<Figure size 432x288 with 2 Axes>"
      ]
     },
     "metadata": {
      "needs_background": "light"
     },
     "output_type": "display_data"
    }
   ],
   "source": [
    "plot_confusion_matrix(lr,x_test,y_test)"
   ]
  },
  {
   "cell_type": "code",
   "execution_count": 185,
   "metadata": {},
   "outputs": [
    {
     "name": "stdout",
     "output_type": "stream",
     "text": [
      "train shape: (37902, 26)\n"
     ]
    }
   ],
   "source": [
    "# K-nearest Neighbours\n",
    "from sklearn.neighbors import KNeighborsClassifier\n",
    "knn = KNeighborsClassifier(algorithm = 'brute', n_jobs=-1)\n",
    "knn.fit(x_train, y_train)\n",
    "print(\"train shape: \" + str(x_train.shape))"
   ]
  },
  {
   "cell_type": "code",
   "execution_count": 186,
   "metadata": {},
   "outputs": [
    {
     "name": "stdout",
     "output_type": "stream",
     "text": [
      "score on test: 0.9762558041367666\n",
      "score on train: 0.9794469948815366\n"
     ]
    }
   ],
   "source": [
    "print(\"score on test: \" + str(knn.score(x_test, y_test)))\n",
    "print(\"score on train: \"+ str(knn.score(x_train, y_train)))"
   ]
  },
  {
   "cell_type": "code",
   "execution_count": 187,
   "metadata": {},
   "outputs": [
    {
     "name": "stderr",
     "output_type": "stream",
     "text": [
      "C:\\Users\\KrishnaSurendra\\anaconda3\\lib\\site-packages\\sklearn\\utils\\deprecation.py:87: FutureWarning: Function plot_confusion_matrix is deprecated; Function `plot_confusion_matrix` is deprecated in 1.0 and will be removed in 1.2. Use one of the class methods: ConfusionMatrixDisplay.from_predictions or ConfusionMatrixDisplay.from_estimator.\n",
      "  warnings.warn(msg, category=FutureWarning)\n"
     ]
    },
    {
     "data": {
      "text/plain": [
       "<sklearn.metrics._plot.confusion_matrix.ConfusionMatrixDisplay at 0x210b7b0e2b0>"
      ]
     },
     "execution_count": 187,
     "metadata": {},
     "output_type": "execute_result"
    },
    {
     "data": {
      "image/png": "[encoded data removed]",
      "text/plain": [
       "<Figure size 432x288 with 2 Axes>"
      ]
     },
     "metadata": {
      "needs_background": "light"
     },
     "output_type": "display_data"
    }
   ],
   "source": [
    "plot_confusion_matrix(knn,x_test,y_test)"
   ]
  },
  {
   "cell_type": "code",
   "execution_count": 188,
   "metadata": {},
   "outputs": [
    {
     "name": "stdout",
     "output_type": "stream",
     "text": [
      "score on test: 0.9616926973406501\n",
      "score on train: 0.9623502717534694\n"
     ]
    },
    {
     "name": "stderr",
     "output_type": "stream",
     "text": [
      "C:\\Users\\KrishnaSurendra\\anaconda3\\lib\\site-packages\\sklearn\\svm\\_base.py:1206: ConvergenceWarning: Liblinear failed to converge, increase the number of iterations.\n",
      "  warnings.warn(\n"
     ]
    }
   ],
   "source": [
    "# Support Vector Machine\n",
    "from sklearn.svm import LinearSVC\n",
    "svm=LinearSVC(C=0.0001)\n",
    "svm.fit(x_train, y_train)\n",
    "print(\"score on test: \" + str(svm.score(x_test, y_test)))\n",
    "print(\"score on train: \"+ str(svm.score(x_train, y_train)))"
   ]
  },
  {
   "cell_type": "code",
   "execution_count": 189,
   "metadata": {},
   "outputs": [
    {
     "name": "stderr",
     "output_type": "stream",
     "text": [
      "C:\\Users\\KrishnaSurendra\\anaconda3\\lib\\site-packages\\sklearn\\utils\\deprecation.py:87: FutureWarning: Function plot_confusion_matrix is deprecated; Function `plot_confusion_matrix` is deprecated in 1.0 and will be removed in 1.2. Use one of the class methods: ConfusionMatrixDisplay.from_predictions or ConfusionMatrixDisplay.from_estimator.\n",
      "  warnings.warn(msg, category=FutureWarning)\n"
     ]
    },
    {
     "data": {
      "text/plain": [
       "<sklearn.metrics._plot.confusion_matrix.ConfusionMatrixDisplay at 0x210bc30c040>"
      ]
     },
     "execution_count": 189,
     "metadata": {},
     "output_type": "execute_result"
    },
    {
     "data": {
      "image/png": "[encoded data removed]",
      "text/plain": [
       "<Figure size 432x288 with 2 Axes>"
      ]
     },
     "metadata": {
      "needs_background": "light"
     },
     "output_type": "display_data"
    }
   ],
   "source": [
    "plot_confusion_matrix(svm,x_test,y_test)"
   ]
  },
  {
   "cell_type": "code",
   "execution_count": 190,
   "metadata": {},
   "outputs": [
    {
     "name": "stdout",
     "output_type": "stream",
     "text": [
      "score on test: 0.9915576192486281\n",
      "score on train: 0.9998416970080735\n"
     ]
    }
   ],
   "source": [
    "# Decision Tree\n",
    "from sklearn.tree import DecisionTreeClassifier\n",
    "clff = DecisionTreeClassifier()\n",
    "clff.fit(x_train, y_train)\n",
    "print(\"score on test: \"  + str(clff.score(x_test, y_test)))\n",
    "print(\"score on train: \" + str(clff.score(x_train, y_train)))"
   ]
  },
  {
   "cell_type": "code",
   "execution_count": 191,
   "metadata": {},
   "outputs": [
    {
     "name": "stderr",
     "output_type": "stream",
     "text": [
      "C:\\Users\\KrishnaSurendra\\anaconda3\\lib\\site-packages\\sklearn\\utils\\deprecation.py:87: FutureWarning: Function plot_confusion_matrix is deprecated; Function `plot_confusion_matrix` is deprecated in 1.0 and will be removed in 1.2. Use one of the class methods: ConfusionMatrixDisplay.from_predictions or ConfusionMatrixDisplay.from_estimator.\n",
      "  warnings.warn(msg, category=FutureWarning)\n"
     ]
    },
    {
     "data": {
      "text/plain": [
       "<sklearn.metrics._plot.confusion_matrix.ConfusionMatrixDisplay at 0x210bcc81610>"
      ]
     },
     "execution_count": 191,
     "metadata": {},
     "output_type": "execute_result"
    },
    {
     "data": {
      "image/png": "[encoded data removed]",
      "text/plain": [
       "<Figure size 432x288 with 2 Axes>"
      ]
     },
     "metadata": {
      "needs_background": "light"
     },
     "output_type": "display_data"
    }
   ],
   "source": [
    "plot_confusion_matrix(clff,x_test,y_test)"
   ]
  },
  {
   "cell_type": "code",
   "execution_count": 192,
   "metadata": {},
   "outputs": [
    {
     "name": "stdout",
     "output_type": "stream",
     "text": [
      "score on test: 0.9952511608273533\n",
      "score on train: 0.9954092132341301\n"
     ]
    }
   ],
   "source": [
    "#Bagging Decision Tree\n",
    "from sklearn.ensemble import BaggingClassifier\n",
    "from sklearn.tree import DecisionTreeClassifier\n",
    "# max_samples: maximum size 0.5=50% of each sample taken from the full dataset\n",
    "# max_features: maximum of features 1=100% taken here all 10K \n",
    "# n_estimators: number of decision trees \n",
    "bg=BaggingClassifier(DecisionTreeClassifier(),max_samples=0.5,max_features=1.0,n_estimators=10)\n",
    "bg.fit(x_train, y_train)\n",
    "print(\"score on test: \" + str(bg.score(x_test, y_test)))\n",
    "print(\"score on train: \"+ str(bg.score(x_train, y_train)))"
   ]
  },
  {
   "cell_type": "code",
   "execution_count": 193,
   "metadata": {},
   "outputs": [
    {
     "name": "stderr",
     "output_type": "stream",
     "text": [
      "C:\\Users\\KrishnaSurendra\\anaconda3\\lib\\site-packages\\sklearn\\utils\\deprecation.py:87: FutureWarning: Function plot_confusion_matrix is deprecated; Function `plot_confusion_matrix` is deprecated in 1.0 and will be removed in 1.2. Use one of the class methods: ConfusionMatrixDisplay.from_predictions or ConfusionMatrixDisplay.from_estimator.\n",
      "  warnings.warn(msg, category=FutureWarning)\n"
     ]
    },
    {
     "data": {
      "text/plain": [
       "<sklearn.metrics._plot.confusion_matrix.ConfusionMatrixDisplay at 0x210bcc3a460>"
      ]
     },
     "execution_count": 193,
     "metadata": {},
     "output_type": "execute_result"
    },
    {
     "data": {
      "image/png": "[encoded data removed]",
      "text/plain": [
       "<Figure size 432x288 with 2 Axes>"
      ]
     },
     "metadata": {
      "needs_background": "light"
     },
     "output_type": "display_data"
    }
   ],
   "source": [
    "plot_confusion_matrix(bg,x_test,y_test)"
   ]
  },
  {
   "cell_type": "code",
   "execution_count": 194,
   "metadata": {},
   "outputs": [
    {
     "name": "stdout",
     "output_type": "stream",
     "text": [
      "score on test: 0.9947235120303926\n",
      "score on train: 0.9938525671468524\n"
     ]
    }
   ],
   "source": [
    "# Boosting Decision Tree\n",
    "\n",
    "from sklearn.ensemble import AdaBoostClassifier\n",
    "from sklearn.tree import DecisionTreeClassifier\n",
    "adb = AdaBoostClassifier(DecisionTreeClassifier(min_samples_split=10,max_depth=4),n_estimators=10,learning_rate=0.6)\n",
    "adb.fit(x_train, y_train)\n",
    "print(\"score on test: \" + str(adb.score(x_test, y_test)))\n",
    "print(\"score on train: \"+ str(adb.score(x_train, y_train)))"
   ]
  },
  {
   "cell_type": "code",
   "execution_count": 195,
   "metadata": {},
   "outputs": [
    {
     "name": "stderr",
     "output_type": "stream",
     "text": [
      "C:\\Users\\KrishnaSurendra\\anaconda3\\lib\\site-packages\\sklearn\\utils\\deprecation.py:87: FutureWarning: Function plot_confusion_matrix is deprecated; Function `plot_confusion_matrix` is deprecated in 1.0 and will be removed in 1.2. Use one of the class methods: ConfusionMatrixDisplay.from_predictions or ConfusionMatrixDisplay.from_estimator.\n",
      "  warnings.warn(msg, category=FutureWarning)\n"
     ]
    },
    {
     "data": {
      "text/plain": [
       "<sklearn.metrics._plot.confusion_matrix.ConfusionMatrixDisplay at 0x210b92978b0>"
      ]
     },
     "execution_count": 195,
     "metadata": {},
     "output_type": "execute_result"
    },
    {
     "data": {
      "image/png": "[encoded data removed]",
      "text/plain": [
       "<Figure size 432x288 with 2 Axes>"
      ]
     },
     "metadata": {
      "needs_background": "light"
     },
     "output_type": "display_data"
    }
   ],
   "source": [
    "plot_confusion_matrix(adb,x_test,y_test)"
   ]
  },
  {
   "cell_type": "code",
   "execution_count": 196,
   "metadata": {},
   "outputs": [
    {
     "name": "stdout",
     "output_type": "stream",
     "text": [
      "score on test: 0.9948290417897847\n",
      "score on train: 0.9921903857316237\n"
     ]
    }
   ],
   "source": [
    "# Random Forest classifier\n",
    "\n",
    "from sklearn.ensemble import RandomForestClassifier\n",
    "# n_estimators = number of decision trees\n",
    "rf = RandomForestClassifier(n_estimators=30, max_depth=9)\n",
    "rf.fit(x_train, y_train)\n",
    "print(\"score on test: \" + str(rf.score(x_test, y_test)))\n",
    "print(\"score on train: \"+ str(rf.score(x_train, y_train)))"
   ]
  },
  {
   "cell_type": "code",
   "execution_count": 197,
   "metadata": {},
   "outputs": [
    {
     "name": "stderr",
     "output_type": "stream",
     "text": [
      "C:\\Users\\KrishnaSurendra\\anaconda3\\lib\\site-packages\\sklearn\\utils\\deprecation.py:87: FutureWarning: Function plot_confusion_matrix is deprecated; Function `plot_confusion_matrix` is deprecated in 1.0 and will be removed in 1.2. Use one of the class methods: ConfusionMatrixDisplay.from_predictions or ConfusionMatrixDisplay.from_estimator.\n",
      "  warnings.warn(msg, category=FutureWarning)\n"
     ]
    },
    {
     "data": {
      "text/plain": [
       "<sklearn.metrics._plot.confusion_matrix.ConfusionMatrixDisplay at 0x210bc4bf610>"
      ]
     },
     "execution_count": 197,
     "metadata": {},
     "output_type": "execute_result"
    },
    {
     "data": {
      "image/png": "[encoded data removed]",
      "text/plain": [
       "<Figure size 432x288 with 2 Axes>"
      ]
     },
     "metadata": {
      "needs_background": "light"
     },
     "output_type": "display_data"
    }
   ],
   "source": [
    "plot_confusion_matrix(rf,x_test,y_test)"
   ]
  },
  {
   "cell_type": "code",
   "execution_count": 198,
   "metadata": {},
   "outputs": [
    {
     "name": "stderr",
     "output_type": "stream",
     "text": [
      "C:\\Users\\KrishnaSurendra\\anaconda3\\lib\\site-packages\\sklearn\\svm\\_base.py:1206: ConvergenceWarning: Liblinear failed to converge, increase the number of iterations.\n",
      "  warnings.warn(\n"
     ]
    },
    {
     "name": "stdout",
     "output_type": "stream",
     "text": [
      "score on test: 0.9690797804981005\n",
      "score on train: 0.9692892195662498\n"
     ]
    }
   ],
   "source": [
    "# voting classifier\n",
    "\n",
    "from sklearn.ensemble import VotingClassifier\n",
    "# 1) naive bias = mnb\n",
    "# 2) logistic regression =lr\n",
    "# 3) random forest =rf\n",
    "# 4) support vector machine = svm\n",
    "evc=VotingClassifier(estimators=[('lr',lr),('rf',rf),('svm',svm)],voting='hard')\n",
    "evc.fit(x_train, y_train)\n",
    "print(\"score on test: \" + str(evc.score(x_test, y_test)))\n",
    "print(\"score on train: \"+ str(evc.score(x_train, y_train)))"
   ]
  },
  {
   "cell_type": "code",
   "execution_count": 199,
   "metadata": {},
   "outputs": [
    {
     "name": "stderr",
     "output_type": "stream",
     "text": [
      "C:\\Users\\KrishnaSurendra\\anaconda3\\lib\\site-packages\\sklearn\\utils\\deprecation.py:87: FutureWarning: Function plot_confusion_matrix is deprecated; Function `plot_confusion_matrix` is deprecated in 1.0 and will be removed in 1.2. Use one of the class methods: ConfusionMatrixDisplay.from_predictions or ConfusionMatrixDisplay.from_estimator.\n",
      "  warnings.warn(msg, category=FutureWarning)\n"
     ]
    },
    {
     "data": {
      "text/plain": [
       "<sklearn.metrics._plot.confusion_matrix.ConfusionMatrixDisplay at 0x210bc398280>"
      ]
     },
     "execution_count": 199,
     "metadata": {},
     "output_type": "execute_result"
    },
    {
     "data": {
      "image/png": "[encoded data removed]",
      "text/plain": [
       "<Figure size 432x288 with 2 Axes>"
      ]
     },
     "metadata": {
      "needs_background": "light"
     },
     "output_type": "display_data"
    }
   ],
   "source": [
    "plot_confusion_matrix(evc,x_test,y_test)"
   ]
  },
  {
   "cell_type": "code",
   "execution_count": 200,
   "metadata": {},
   "outputs": [],
   "source": [
    "import imblearn"
   ]
  },
  {
   "cell_type": "code",
   "execution_count": 201,
   "metadata": {},
   "outputs": [],
   "source": [
    "# SMOTE\n",
    "from imblearn.over_sampling import SMOTE\n",
    "smote = SMOTE(random_state = 1)\n",
    "x_sm,y_sm = smote.fit_resample(x_train,y_train)\n"
   ]
  },
  {
   "cell_type": "code",
   "execution_count": 202,
   "metadata": {},
   "outputs": [
    {
     "data": {
      "text/plain": [
       "0.5171530029334569"
      ]
     },
     "execution_count": 202,
     "metadata": {},
     "output_type": "execute_result"
    }
   ],
   "source": [
    "from sklearn.linear_model import LogisticRegression\n",
    "clf = LogisticRegression(random_state=1)\n",
    "\n",
    "clf.fit(x_sm, y_sm)\n",
    "y_pred = clf.predict_proba(x_test)[:, 1]\n",
    "\n",
    "from sklearn.metrics import roc_auc_score\n",
    "roc_auc_score(y_test, y_pred)"
   ]
  },
  {
   "cell_type": "code",
   "execution_count": 203,
   "metadata": {},
   "outputs": [
    {
     "name": "stderr",
     "output_type": "stream",
     "text": [
      "C:\\Users\\KrishnaSurendra\\anaconda3\\lib\\site-packages\\sklearn\\utils\\deprecation.py:87: FutureWarning: Function plot_confusion_matrix is deprecated; Function `plot_confusion_matrix` is deprecated in 1.0 and will be removed in 1.2. Use one of the class methods: ConfusionMatrixDisplay.from_predictions or ConfusionMatrixDisplay.from_estimator.\n",
      "  warnings.warn(msg, category=FutureWarning)\n"
     ]
    },
    {
     "data": {
      "text/plain": [
       "<sklearn.metrics._plot.confusion_matrix.ConfusionMatrixDisplay at 0x210bcc81dc0>"
      ]
     },
     "execution_count": 203,
     "metadata": {},
     "output_type": "execute_result"
    },
    {
     "data": {
      "image/png": "[encoded data removed]",
      "text/plain": [
       "<Figure size 432x288 with 2 Axes>"
      ]
     },
     "metadata": {
      "needs_background": "light"
     },
     "output_type": "display_data"
    }
   ],
   "source": [
    "plot_confusion_matrix(clf,x_test,y_test)"
   ]
  },
  {
   "cell_type": "code",
   "execution_count": 204,
   "metadata": {},
   "outputs": [],
   "source": [
    "# Over-Under Sampling\n",
    "\n",
    "from imblearn.combine import SMOTETomek\n",
    "\n",
    "smote_tomek = SMOTETomek(random_state=12)\n",
    "x_resampled, y_resampled = smote_tomek.fit_resample(x_train, y_train)"
   ]
  },
  {
   "cell_type": "code",
   "execution_count": 205,
   "metadata": {},
   "outputs": [
    {
     "data": {
      "text/plain": [
       "0.5156007093395898"
      ]
     },
     "execution_count": 205,
     "metadata": {},
     "output_type": "execute_result"
    }
   ],
   "source": [
    "from sklearn.linear_model import LogisticRegression\n",
    "clf = LogisticRegression(random_state=12)\n",
    "\n",
    "clf.fit(x_resampled, y_resampled)\n",
    "y_pred = clf.predict_proba(x_test)[:, 1]\n",
    "\n",
    "from sklearn.metrics import roc_auc_score\n",
    "roc_auc_score(y_test, y_pred)"
   ]
  },
  {
   "cell_type": "code",
   "execution_count": 206,
   "metadata": {},
   "outputs": [
    {
     "name": "stderr",
     "output_type": "stream",
     "text": [
      "C:\\Users\\KrishnaSurendra\\anaconda3\\lib\\site-packages\\sklearn\\utils\\deprecation.py:87: FutureWarning: Function plot_confusion_matrix is deprecated; Function `plot_confusion_matrix` is deprecated in 1.0 and will be removed in 1.2. Use one of the class methods: ConfusionMatrixDisplay.from_predictions or ConfusionMatrixDisplay.from_estimator.\n",
      "  warnings.warn(msg, category=FutureWarning)\n"
     ]
    },
    {
     "data": {
      "text/plain": [
       "<sklearn.metrics._plot.confusion_matrix.ConfusionMatrixDisplay at 0x210bc4d7370>"
      ]
     },
     "execution_count": 206,
     "metadata": {},
     "output_type": "execute_result"
    },
    {
     "data": {
      "image/png": "[encoded data removed]",
      "text/plain": [
       "<Figure size 432x288 with 2 Axes>"
      ]
     },
     "metadata": {
      "needs_background": "light"
     },
     "output_type": "display_data"
    }
   ],
   "source": [
    "plot_confusion_matrix(clf,x_test,y_test)"
   ]
  },
  {
   "cell_type": "code",
   "execution_count": 207,
   "metadata": {},
   "outputs": [
    {
     "data": {
      "text/plain": [
       "-1    36124\n",
       " 1     1550\n",
       "Name: SubmitToLender FirstStatusDate, dtype: int64"
      ]
     },
     "execution_count": 207,
     "metadata": {},
     "output_type": "execute_result"
    }
   ],
   "source": [
    "# Undersampling\n",
    "from imblearn.under_sampling import TomekLinks\n",
    "\n",
    "tl = TomekLinks()\n",
    "x_resampled, y_resampled = tl.fit_resample(x_train, y_train)\n",
    "\n",
    "y_resampled.value_counts()"
   ]
  },
  {
   "cell_type": "code",
   "execution_count": 208,
   "metadata": {},
   "outputs": [
    {
     "data": {
      "text/plain": [
       "0.49864841661147496"
      ]
     },
     "execution_count": 208,
     "metadata": {},
     "output_type": "execute_result"
    }
   ],
   "source": [
    "from sklearn.linear_model import LogisticRegression\n",
    "clf = LogisticRegression(random_state=123)\n",
    "\n",
    "clf.fit(x_resampled, y_resampled)\n",
    "y_pred = clf.predict_proba(x_test)[:, 1]\n",
    "\n",
    "from sklearn.metrics import roc_auc_score\n",
    "roc_auc_score(y_test, y_pred)"
   ]
  },
  {
   "cell_type": "code",
   "execution_count": 209,
   "metadata": {},
   "outputs": [
    {
     "name": "stderr",
     "output_type": "stream",
     "text": [
      "C:\\Users\\KrishnaSurendra\\anaconda3\\lib\\site-packages\\sklearn\\utils\\deprecation.py:87: FutureWarning: Function plot_confusion_matrix is deprecated; Function `plot_confusion_matrix` is deprecated in 1.0 and will be removed in 1.2. Use one of the class methods: ConfusionMatrixDisplay.from_predictions or ConfusionMatrixDisplay.from_estimator.\n",
      "  warnings.warn(msg, category=FutureWarning)\n"
     ]
    },
    {
     "data": {
      "text/plain": [
       "<sklearn.metrics._plot.confusion_matrix.ConfusionMatrixDisplay at 0x210bc345ac0>"
      ]
     },
     "execution_count": 209,
     "metadata": {},
     "output_type": "execute_result"
    },
    {
     "data": {
      "image/png": "[encoded data removed]",
      "text/plain": [
       "<Figure size 432x288 with 2 Axes>"
      ]
     },
     "metadata": {
      "needs_background": "light"
     },
     "output_type": "display_data"
    }
   ],
   "source": [
    "plot_confusion_matrix(clf,x_test,y_test)"
   ]
  },
  {
   "cell_type": "code",
   "execution_count": 210,
   "metadata": {},
   "outputs": [
    {
     "data": {
      "text/plain": [
       " 1    1550\n",
       "-1    1550\n",
       "Name: SubmitToLender FirstStatusDate, dtype: int64"
      ]
     },
     "execution_count": 210,
     "metadata": {},
     "output_type": "execute_result"
    }
   ],
   "source": [
    "from imblearn.under_sampling import ClusterCentroids\n",
    "\n",
    "cc = ClusterCentroids(random_state=14)\n",
    "X_resampled, y_resampled = cc.fit_resample(x_train, y_train)\n",
    "\n",
    "y_resampled.value_counts()"
   ]
  },
  {
   "cell_type": "code",
   "execution_count": 211,
   "metadata": {},
   "outputs": [
    {
     "data": {
      "text/plain": [
       "0.5163296726446852"
      ]
     },
     "execution_count": 211,
     "metadata": {},
     "output_type": "execute_result"
    }
   ],
   "source": [
    "from sklearn.linear_model import LogisticRegression\n",
    "clf = LogisticRegression(random_state=14)\n",
    "\n",
    "clf.fit(X_resampled, y_resampled)\n",
    "y_pred = clf.predict_proba(x_test)[:, 1]\n",
    "\n",
    "from sklearn.metrics import roc_auc_score\n",
    "roc_auc_score(y_test, y_pred)"
   ]
  },
  {
   "cell_type": "code",
   "execution_count": 212,
   "metadata": {},
   "outputs": [
    {
     "name": "stderr",
     "output_type": "stream",
     "text": [
      "C:\\Users\\KrishnaSurendra\\anaconda3\\lib\\site-packages\\sklearn\\utils\\deprecation.py:87: FutureWarning: Function plot_confusion_matrix is deprecated; Function `plot_confusion_matrix` is deprecated in 1.0 and will be removed in 1.2. Use one of the class methods: ConfusionMatrixDisplay.from_predictions or ConfusionMatrixDisplay.from_estimator.\n",
      "  warnings.warn(msg, category=FutureWarning)\n"
     ]
    },
    {
     "data": {
      "text/plain": [
       "<sklearn.metrics._plot.confusion_matrix.ConfusionMatrixDisplay at 0x210bc366d00>"
      ]
     },
     "execution_count": 212,
     "metadata": {},
     "output_type": "execute_result"
    },
    {
     "data": {
      "image/png": "[encoded data removed]",
      "text/plain": [
       "<Figure size 432x288 with 2 Axes>"
      ]
     },
     "metadata": {
      "needs_background": "light"
     },
     "output_type": "display_data"
    }
   ],
   "source": [
    "plot_confusion_matrix(clf,x_test,y_test)"
   ]
  },
  {
   "cell_type": "code",
   "execution_count": 218,
   "metadata": {},
   "outputs": [],
   "source": [
    "df_submit = df[df['SubmitToLender FirstStatusDate']==1]"
   ]
  },
  {
   "cell_type": "code",
   "execution_count": 219,
   "metadata": {},
   "outputs": [
    {
     "data": {
      "text/html": [
       "<div>\n",
       "<style scoped>\n",
       "    .dataframe tbody tr th:only-of-type {\n",
       "        vertical-align: middle;\n",
       "    }\n",
       "\n",
       "    .dataframe tbody tr th {\n",
       "        vertical-align: top;\n",
       "    }\n",
       "\n",
       "    .dataframe thead th {\n",
       "        text-align: right;\n",
       "    }\n",
       "</style>\n",
       "<table border=\"1\" class=\"dataframe\">\n",
       "  <thead>\n",
       "    <tr style=\"text-align: right;\">\n",
       "      <th></th>\n",
       "      <th>Finmo Submit Date</th>\n",
       "      <th>JumpstartFlag</th>\n",
       "      <th>IsFirstTimeBuyer__c</th>\n",
       "      <th>LoanAmount__c</th>\n",
       "      <th>Loan Amount (50k Bins)</th>\n",
       "      <th>LoanPurpose__c</th>\n",
       "      <th>PropertyCity__c</th>\n",
       "      <th>PropertyPostalCode__c</th>\n",
       "      <th>PropertyProvince__c</th>\n",
       "      <th>PurchasePrice__c</th>\n",
       "      <th>...</th>\n",
       "      <th>PAL FirstStatusDate</th>\n",
       "      <th>Presentation FirstStatusDate</th>\n",
       "      <th>ApplicationStarted FirstStatusDate</th>\n",
       "      <th>SubmitToLender FirstStatusDate</th>\n",
       "      <th>Lead_Allocate_DD</th>\n",
       "      <th>Allocate_Credit_DD</th>\n",
       "      <th>Credit_PAL_DD</th>\n",
       "      <th>PAL_Present_DD</th>\n",
       "      <th>Present_App_DD</th>\n",
       "      <th>App_Submit_DD</th>\n",
       "    </tr>\n",
       "    <tr>\n",
       "      <th>Id</th>\n",
       "      <th></th>\n",
       "      <th></th>\n",
       "      <th></th>\n",
       "      <th></th>\n",
       "      <th></th>\n",
       "      <th></th>\n",
       "      <th></th>\n",
       "      <th></th>\n",
       "      <th></th>\n",
       "      <th></th>\n",
       "      <th></th>\n",
       "      <th></th>\n",
       "      <th></th>\n",
       "      <th></th>\n",
       "      <th></th>\n",
       "      <th></th>\n",
       "      <th></th>\n",
       "      <th></th>\n",
       "      <th></th>\n",
       "      <th></th>\n",
       "      <th></th>\n",
       "    </tr>\n",
       "  </thead>\n",
       "  <tbody>\n",
       "    <tr>\n",
       "      <th>1</th>\n",
       "      <td>-1</td>\n",
       "      <td>0</td>\n",
       "      <td>False</td>\n",
       "      <td>452500.0</td>\n",
       "      <td>350000.0</td>\n",
       "      <td>1</td>\n",
       "      <td>951</td>\n",
       "      <td>7528</td>\n",
       "      <td>6</td>\n",
       "      <td>-1.0</td>\n",
       "      <td>...</td>\n",
       "      <td>-1</td>\n",
       "      <td>-1</td>\n",
       "      <td>1</td>\n",
       "      <td>1</td>\n",
       "      <td>1.0</td>\n",
       "      <td>1.0</td>\n",
       "      <td>-1.0</td>\n",
       "      <td>-1.0</td>\n",
       "      <td>-1.0</td>\n",
       "      <td>0.0</td>\n",
       "    </tr>\n",
       "    <tr>\n",
       "      <th>61</th>\n",
       "      <td>-1</td>\n",
       "      <td>0</td>\n",
       "      <td>False</td>\n",
       "      <td>420000.0</td>\n",
       "      <td>400000.0</td>\n",
       "      <td>1</td>\n",
       "      <td>944</td>\n",
       "      <td>7528</td>\n",
       "      <td>6</td>\n",
       "      <td>-1.0</td>\n",
       "      <td>...</td>\n",
       "      <td>-1</td>\n",
       "      <td>-1</td>\n",
       "      <td>1</td>\n",
       "      <td>1</td>\n",
       "      <td>73.0</td>\n",
       "      <td>0.0</td>\n",
       "      <td>-1.0</td>\n",
       "      <td>-1.0</td>\n",
       "      <td>-1.0</td>\n",
       "      <td>0.0</td>\n",
       "    </tr>\n",
       "    <tr>\n",
       "      <th>89</th>\n",
       "      <td>-1</td>\n",
       "      <td>0</td>\n",
       "      <td>False</td>\n",
       "      <td>170000.0</td>\n",
       "      <td>150000.0</td>\n",
       "      <td>2</td>\n",
       "      <td>941</td>\n",
       "      <td>7528</td>\n",
       "      <td>6</td>\n",
       "      <td>1200000.0</td>\n",
       "      <td>...</td>\n",
       "      <td>-1</td>\n",
       "      <td>-1</td>\n",
       "      <td>1</td>\n",
       "      <td>1</td>\n",
       "      <td>0.0</td>\n",
       "      <td>0.0</td>\n",
       "      <td>-1.0</td>\n",
       "      <td>-1.0</td>\n",
       "      <td>-1.0</td>\n",
       "      <td>14.0</td>\n",
       "    </tr>\n",
       "    <tr>\n",
       "      <th>98</th>\n",
       "      <td>-1</td>\n",
       "      <td>0</td>\n",
       "      <td>False</td>\n",
       "      <td>900000.0</td>\n",
       "      <td>1050000.0</td>\n",
       "      <td>2</td>\n",
       "      <td>941</td>\n",
       "      <td>7528</td>\n",
       "      <td>10</td>\n",
       "      <td>1800000.0</td>\n",
       "      <td>...</td>\n",
       "      <td>-1</td>\n",
       "      <td>-1</td>\n",
       "      <td>1</td>\n",
       "      <td>1</td>\n",
       "      <td>1.0</td>\n",
       "      <td>0.0</td>\n",
       "      <td>-1.0</td>\n",
       "      <td>-1.0</td>\n",
       "      <td>-1.0</td>\n",
       "      <td>21.0</td>\n",
       "    </tr>\n",
       "    <tr>\n",
       "      <th>103</th>\n",
       "      <td>-1</td>\n",
       "      <td>0</td>\n",
       "      <td>False</td>\n",
       "      <td>610000.0</td>\n",
       "      <td>600000.0</td>\n",
       "      <td>1</td>\n",
       "      <td>941</td>\n",
       "      <td>7528</td>\n",
       "      <td>10</td>\n",
       "      <td>800000.0</td>\n",
       "      <td>...</td>\n",
       "      <td>-1</td>\n",
       "      <td>-1</td>\n",
       "      <td>1</td>\n",
       "      <td>1</td>\n",
       "      <td>3.0</td>\n",
       "      <td>0.0</td>\n",
       "      <td>-1.0</td>\n",
       "      <td>-1.0</td>\n",
       "      <td>-1.0</td>\n",
       "      <td>4.0</td>\n",
       "    </tr>\n",
       "    <tr>\n",
       "      <th>...</th>\n",
       "      <td>...</td>\n",
       "      <td>...</td>\n",
       "      <td>...</td>\n",
       "      <td>...</td>\n",
       "      <td>...</td>\n",
       "      <td>...</td>\n",
       "      <td>...</td>\n",
       "      <td>...</td>\n",
       "      <td>...</td>\n",
       "      <td>...</td>\n",
       "      <td>...</td>\n",
       "      <td>...</td>\n",
       "      <td>...</td>\n",
       "      <td>...</td>\n",
       "      <td>...</td>\n",
       "      <td>...</td>\n",
       "      <td>...</td>\n",
       "      <td>...</td>\n",
       "      <td>...</td>\n",
       "      <td>...</td>\n",
       "      <td>...</td>\n",
       "    </tr>\n",
       "    <tr>\n",
       "      <th>47461</th>\n",
       "      <td>-1</td>\n",
       "      <td>0</td>\n",
       "      <td>False</td>\n",
       "      <td>-1.0</td>\n",
       "      <td>250000.0</td>\n",
       "      <td>1</td>\n",
       "      <td>954</td>\n",
       "      <td>7528</td>\n",
       "      <td>10</td>\n",
       "      <td>-1.0</td>\n",
       "      <td>...</td>\n",
       "      <td>-1</td>\n",
       "      <td>-1</td>\n",
       "      <td>-1</td>\n",
       "      <td>1</td>\n",
       "      <td>0.0</td>\n",
       "      <td>0.0</td>\n",
       "      <td>-1.0</td>\n",
       "      <td>-1.0</td>\n",
       "      <td>-1.0</td>\n",
       "      <td>-1.0</td>\n",
       "    </tr>\n",
       "    <tr>\n",
       "      <th>47462</th>\n",
       "      <td>-1</td>\n",
       "      <td>0</td>\n",
       "      <td>False</td>\n",
       "      <td>-1.0</td>\n",
       "      <td>650000.0</td>\n",
       "      <td>0</td>\n",
       "      <td>954</td>\n",
       "      <td>7528</td>\n",
       "      <td>10</td>\n",
       "      <td>-1.0</td>\n",
       "      <td>...</td>\n",
       "      <td>1</td>\n",
       "      <td>-1</td>\n",
       "      <td>1</td>\n",
       "      <td>1</td>\n",
       "      <td>0.0</td>\n",
       "      <td>0.0</td>\n",
       "      <td>0.0</td>\n",
       "      <td>-1.0</td>\n",
       "      <td>-1.0</td>\n",
       "      <td>1.0</td>\n",
       "    </tr>\n",
       "    <tr>\n",
       "      <th>47463</th>\n",
       "      <td>-1</td>\n",
       "      <td>0</td>\n",
       "      <td>False</td>\n",
       "      <td>-1.0</td>\n",
       "      <td>300000.0</td>\n",
       "      <td>1</td>\n",
       "      <td>954</td>\n",
       "      <td>7528</td>\n",
       "      <td>10</td>\n",
       "      <td>-1.0</td>\n",
       "      <td>...</td>\n",
       "      <td>-1</td>\n",
       "      <td>1</td>\n",
       "      <td>1</td>\n",
       "      <td>1</td>\n",
       "      <td>0.0</td>\n",
       "      <td>0.0</td>\n",
       "      <td>-1.0</td>\n",
       "      <td>-1.0</td>\n",
       "      <td>1.0</td>\n",
       "      <td>1.0</td>\n",
       "    </tr>\n",
       "    <tr>\n",
       "      <th>47475</th>\n",
       "      <td>-1</td>\n",
       "      <td>0</td>\n",
       "      <td>False</td>\n",
       "      <td>308000.0</td>\n",
       "      <td>300000.0</td>\n",
       "      <td>0</td>\n",
       "      <td>954</td>\n",
       "      <td>7528</td>\n",
       "      <td>10</td>\n",
       "      <td>385000.0</td>\n",
       "      <td>...</td>\n",
       "      <td>-1</td>\n",
       "      <td>1</td>\n",
       "      <td>1</td>\n",
       "      <td>1</td>\n",
       "      <td>0.0</td>\n",
       "      <td>1.0</td>\n",
       "      <td>-1.0</td>\n",
       "      <td>-1.0</td>\n",
       "      <td>4.0</td>\n",
       "      <td>3.0</td>\n",
       "    </tr>\n",
       "    <tr>\n",
       "      <th>47487</th>\n",
       "      <td>-1</td>\n",
       "      <td>0</td>\n",
       "      <td>False</td>\n",
       "      <td>-1.0</td>\n",
       "      <td>150000.0</td>\n",
       "      <td>1</td>\n",
       "      <td>954</td>\n",
       "      <td>7528</td>\n",
       "      <td>10</td>\n",
       "      <td>-1.0</td>\n",
       "      <td>...</td>\n",
       "      <td>-1</td>\n",
       "      <td>-1</td>\n",
       "      <td>1</td>\n",
       "      <td>1</td>\n",
       "      <td>0.0</td>\n",
       "      <td>0.0</td>\n",
       "      <td>-1.0</td>\n",
       "      <td>-1.0</td>\n",
       "      <td>-1.0</td>\n",
       "      <td>0.0</td>\n",
       "    </tr>\n",
       "  </tbody>\n",
       "</table>\n",
       "<p>1931 rows × 27 columns</p>\n",
       "</div>"
      ],
      "text/plain": [
       "       Finmo Submit Date  JumpstartFlag  IsFirstTimeBuyer__c  LoanAmount__c  \\\n",
       "Id                                                                            \n",
       "1                     -1              0                False       452500.0   \n",
       "61                    -1              0                False       420000.0   \n",
       "89                    -1              0                False       170000.0   \n",
       "98                    -1              0                False       900000.0   \n",
       "103                   -1              0                False       610000.0   \n",
       "...                  ...            ...                  ...            ...   \n",
       "47461                 -1              0                False           -1.0   \n",
       "47462                 -1              0                False           -1.0   \n",
       "47463                 -1              0                False           -1.0   \n",
       "47475                 -1              0                False       308000.0   \n",
       "47487                 -1              0                False           -1.0   \n",
       "\n",
       "       Loan Amount (50k Bins)  LoanPurpose__c  PropertyCity__c  \\\n",
       "Id                                                               \n",
       "1                    350000.0               1              951   \n",
       "61                   400000.0               1              944   \n",
       "89                   150000.0               2              941   \n",
       "98                  1050000.0               2              941   \n",
       "103                  600000.0               1              941   \n",
       "...                       ...             ...              ...   \n",
       "47461                250000.0               1              954   \n",
       "47462                650000.0               0              954   \n",
       "47463                300000.0               1              954   \n",
       "47475                300000.0               0              954   \n",
       "47487                150000.0               1              954   \n",
       "\n",
       "       PropertyPostalCode__c  PropertyProvince__c  PurchasePrice__c  ...  \\\n",
       "Id                                                                   ...   \n",
       "1                       7528                    6              -1.0  ...   \n",
       "61                      7528                    6              -1.0  ...   \n",
       "89                      7528                    6         1200000.0  ...   \n",
       "98                      7528                   10         1800000.0  ...   \n",
       "103                     7528                   10          800000.0  ...   \n",
       "...                      ...                  ...               ...  ...   \n",
       "47461                   7528                   10              -1.0  ...   \n",
       "47462                   7528                   10              -1.0  ...   \n",
       "47463                   7528                   10              -1.0  ...   \n",
       "47475                   7528                   10          385000.0  ...   \n",
       "47487                   7528                   10              -1.0  ...   \n",
       "\n",
       "       PAL FirstStatusDate  Presentation FirstStatusDate  \\\n",
       "Id                                                         \n",
       "1                       -1                            -1   \n",
       "61                      -1                            -1   \n",
       "89                      -1                            -1   \n",
       "98                      -1                            -1   \n",
       "103                     -1                            -1   \n",
       "...                    ...                           ...   \n",
       "47461                   -1                            -1   \n",
       "47462                    1                            -1   \n",
       "47463                   -1                             1   \n",
       "47475                   -1                             1   \n",
       "47487                   -1                            -1   \n",
       "\n",
       "       ApplicationStarted FirstStatusDate  SubmitToLender FirstStatusDate  \\\n",
       "Id                                                                          \n",
       "1                                       1                               1   \n",
       "61                                      1                               1   \n",
       "89                                      1                               1   \n",
       "98                                      1                               1   \n",
       "103                                     1                               1   \n",
       "...                                   ...                             ...   \n",
       "47461                                  -1                               1   \n",
       "47462                                   1                               1   \n",
       "47463                                   1                               1   \n",
       "47475                                   1                               1   \n",
       "47487                                   1                               1   \n",
       "\n",
       "       Lead_Allocate_DD  Allocate_Credit_DD  Credit_PAL_DD  PAL_Present_DD  \\\n",
       "Id                                                                           \n",
       "1                   1.0                 1.0           -1.0            -1.0   \n",
       "61                 73.0                 0.0           -1.0            -1.0   \n",
       "89                  0.0                 0.0           -1.0            -1.0   \n",
       "98                  1.0                 0.0           -1.0            -1.0   \n",
       "103                 3.0                 0.0           -1.0            -1.0   \n",
       "...                 ...                 ...            ...             ...   \n",
       "47461               0.0                 0.0           -1.0            -1.0   \n",
       "47462               0.0                 0.0            0.0            -1.0   \n",
       "47463               0.0                 0.0           -1.0            -1.0   \n",
       "47475               0.0                 1.0           -1.0            -1.0   \n",
       "47487               0.0                 0.0           -1.0            -1.0   \n",
       "\n",
       "       Present_App_DD  App_Submit_DD  \n",
       "Id                                    \n",
       "1                -1.0            0.0  \n",
       "61               -1.0            0.0  \n",
       "89               -1.0           14.0  \n",
       "98               -1.0           21.0  \n",
       "103              -1.0            4.0  \n",
       "...               ...            ...  \n",
       "47461            -1.0           -1.0  \n",
       "47462            -1.0            1.0  \n",
       "47463             1.0            1.0  \n",
       "47475             4.0            3.0  \n",
       "47487            -1.0            0.0  \n",
       "\n",
       "[1931 rows x 27 columns]"
      ]
     },
     "execution_count": 219,
     "metadata": {},
     "output_type": "execute_result"
    }
   ],
   "source": [
    "df_submit"
   ]
  },
  {
   "cell_type": "code",
   "execution_count": 220,
   "metadata": {},
   "outputs": [],
   "source": [
    "df_not_submit = df[df['SubmitToLender FirstStatusDate']!=1]"
   ]
  },
  {
   "cell_type": "code",
   "execution_count": 221,
   "metadata": {},
   "outputs": [
    {
     "data": {
      "text/html": [
       "<div>\n",
       "<style scoped>\n",
       "    .dataframe tbody tr th:only-of-type {\n",
       "        vertical-align: middle;\n",
       "    }\n",
       "\n",
       "    .dataframe tbody tr th {\n",
       "        vertical-align: top;\n",
       "    }\n",
       "\n",
       "    .dataframe thead th {\n",
       "        text-align: right;\n",
       "    }\n",
       "</style>\n",
       "<table border=\"1\" class=\"dataframe\">\n",
       "  <thead>\n",
       "    <tr style=\"text-align: right;\">\n",
       "      <th></th>\n",
       "      <th>Finmo Submit Date</th>\n",
       "      <th>JumpstartFlag</th>\n",
       "      <th>IsFirstTimeBuyer__c</th>\n",
       "      <th>LoanAmount__c</th>\n",
       "      <th>Loan Amount (50k Bins)</th>\n",
       "      <th>LoanPurpose__c</th>\n",
       "      <th>PropertyCity__c</th>\n",
       "      <th>PropertyPostalCode__c</th>\n",
       "      <th>PropertyProvince__c</th>\n",
       "      <th>PurchasePrice__c</th>\n",
       "      <th>...</th>\n",
       "      <th>PAL FirstStatusDate</th>\n",
       "      <th>Presentation FirstStatusDate</th>\n",
       "      <th>ApplicationStarted FirstStatusDate</th>\n",
       "      <th>SubmitToLender FirstStatusDate</th>\n",
       "      <th>Lead_Allocate_DD</th>\n",
       "      <th>Allocate_Credit_DD</th>\n",
       "      <th>Credit_PAL_DD</th>\n",
       "      <th>PAL_Present_DD</th>\n",
       "      <th>Present_App_DD</th>\n",
       "      <th>App_Submit_DD</th>\n",
       "    </tr>\n",
       "    <tr>\n",
       "      <th>Id</th>\n",
       "      <th></th>\n",
       "      <th></th>\n",
       "      <th></th>\n",
       "      <th></th>\n",
       "      <th></th>\n",
       "      <th></th>\n",
       "      <th></th>\n",
       "      <th></th>\n",
       "      <th></th>\n",
       "      <th></th>\n",
       "      <th></th>\n",
       "      <th></th>\n",
       "      <th></th>\n",
       "      <th></th>\n",
       "      <th></th>\n",
       "      <th></th>\n",
       "      <th></th>\n",
       "      <th></th>\n",
       "      <th></th>\n",
       "      <th></th>\n",
       "      <th></th>\n",
       "    </tr>\n",
       "  </thead>\n",
       "  <tbody>\n",
       "    <tr>\n",
       "      <th>2</th>\n",
       "      <td>-1</td>\n",
       "      <td>0</td>\n",
       "      <td>False</td>\n",
       "      <td>908000.0</td>\n",
       "      <td>900000.0</td>\n",
       "      <td>0</td>\n",
       "      <td>950</td>\n",
       "      <td>7528</td>\n",
       "      <td>6</td>\n",
       "      <td>1135000.0</td>\n",
       "      <td>...</td>\n",
       "      <td>-1</td>\n",
       "      <td>-1</td>\n",
       "      <td>-1</td>\n",
       "      <td>-1</td>\n",
       "      <td>8.0</td>\n",
       "      <td>-1.0</td>\n",
       "      <td>-1.0</td>\n",
       "      <td>-1.0</td>\n",
       "      <td>-1.0</td>\n",
       "      <td>-1.0</td>\n",
       "    </tr>\n",
       "    <tr>\n",
       "      <th>3</th>\n",
       "      <td>-1</td>\n",
       "      <td>0</td>\n",
       "      <td>False</td>\n",
       "      <td>65000.0</td>\n",
       "      <td>50000.0</td>\n",
       "      <td>1</td>\n",
       "      <td>949</td>\n",
       "      <td>7528</td>\n",
       "      <td>1</td>\n",
       "      <td>-1.0</td>\n",
       "      <td>...</td>\n",
       "      <td>-1</td>\n",
       "      <td>-1</td>\n",
       "      <td>-1</td>\n",
       "      <td>-1</td>\n",
       "      <td>78.0</td>\n",
       "      <td>-1.0</td>\n",
       "      <td>-1.0</td>\n",
       "      <td>-1.0</td>\n",
       "      <td>-1.0</td>\n",
       "      <td>-1.0</td>\n",
       "    </tr>\n",
       "    <tr>\n",
       "      <th>4</th>\n",
       "      <td>-1</td>\n",
       "      <td>0</td>\n",
       "      <td>False</td>\n",
       "      <td>160000.0</td>\n",
       "      <td>150000.0</td>\n",
       "      <td>0</td>\n",
       "      <td>948</td>\n",
       "      <td>2994</td>\n",
       "      <td>6</td>\n",
       "      <td>-1.0</td>\n",
       "      <td>...</td>\n",
       "      <td>-1</td>\n",
       "      <td>-1</td>\n",
       "      <td>-1</td>\n",
       "      <td>-1</td>\n",
       "      <td>-1.0</td>\n",
       "      <td>-1.0</td>\n",
       "      <td>-1.0</td>\n",
       "      <td>-1.0</td>\n",
       "      <td>-1.0</td>\n",
       "      <td>-1.0</td>\n",
       "    </tr>\n",
       "    <tr>\n",
       "      <th>5</th>\n",
       "      <td>-1</td>\n",
       "      <td>0</td>\n",
       "      <td>False</td>\n",
       "      <td>800000.0</td>\n",
       "      <td>800000.0</td>\n",
       "      <td>0</td>\n",
       "      <td>948</td>\n",
       "      <td>3001</td>\n",
       "      <td>6</td>\n",
       "      <td>-1.0</td>\n",
       "      <td>...</td>\n",
       "      <td>-1</td>\n",
       "      <td>-1</td>\n",
       "      <td>-1</td>\n",
       "      <td>-1</td>\n",
       "      <td>-1.0</td>\n",
       "      <td>-1.0</td>\n",
       "      <td>-1.0</td>\n",
       "      <td>-1.0</td>\n",
       "      <td>-1.0</td>\n",
       "      <td>-1.0</td>\n",
       "    </tr>\n",
       "    <tr>\n",
       "      <th>6</th>\n",
       "      <td>-1</td>\n",
       "      <td>0</td>\n",
       "      <td>False</td>\n",
       "      <td>220000.0</td>\n",
       "      <td>200000.0</td>\n",
       "      <td>0</td>\n",
       "      <td>948</td>\n",
       "      <td>2993</td>\n",
       "      <td>6</td>\n",
       "      <td>-1.0</td>\n",
       "      <td>...</td>\n",
       "      <td>-1</td>\n",
       "      <td>-1</td>\n",
       "      <td>-1</td>\n",
       "      <td>-1</td>\n",
       "      <td>10.0</td>\n",
       "      <td>-1.0</td>\n",
       "      <td>-1.0</td>\n",
       "      <td>-1.0</td>\n",
       "      <td>-1.0</td>\n",
       "      <td>-1.0</td>\n",
       "    </tr>\n",
       "    <tr>\n",
       "      <th>...</th>\n",
       "      <td>...</td>\n",
       "      <td>...</td>\n",
       "      <td>...</td>\n",
       "      <td>...</td>\n",
       "      <td>...</td>\n",
       "      <td>...</td>\n",
       "      <td>...</td>\n",
       "      <td>...</td>\n",
       "      <td>...</td>\n",
       "      <td>...</td>\n",
       "      <td>...</td>\n",
       "      <td>...</td>\n",
       "      <td>...</td>\n",
       "      <td>...</td>\n",
       "      <td>...</td>\n",
       "      <td>...</td>\n",
       "      <td>...</td>\n",
       "      <td>...</td>\n",
       "      <td>...</td>\n",
       "      <td>...</td>\n",
       "      <td>...</td>\n",
       "    </tr>\n",
       "    <tr>\n",
       "      <th>47507</th>\n",
       "      <td>-1</td>\n",
       "      <td>0</td>\n",
       "      <td>False</td>\n",
       "      <td>-1.0</td>\n",
       "      <td>-1.0</td>\n",
       "      <td>0</td>\n",
       "      <td>954</td>\n",
       "      <td>7528</td>\n",
       "      <td>10</td>\n",
       "      <td>-1.0</td>\n",
       "      <td>...</td>\n",
       "      <td>-1</td>\n",
       "      <td>-1</td>\n",
       "      <td>-1</td>\n",
       "      <td>-1</td>\n",
       "      <td>0.0</td>\n",
       "      <td>0.0</td>\n",
       "      <td>-1.0</td>\n",
       "      <td>-1.0</td>\n",
       "      <td>-1.0</td>\n",
       "      <td>-1.0</td>\n",
       "    </tr>\n",
       "    <tr>\n",
       "      <th>47508</th>\n",
       "      <td>-1</td>\n",
       "      <td>0</td>\n",
       "      <td>False</td>\n",
       "      <td>-1.0</td>\n",
       "      <td>-1.0</td>\n",
       "      <td>0</td>\n",
       "      <td>954</td>\n",
       "      <td>7528</td>\n",
       "      <td>10</td>\n",
       "      <td>-1.0</td>\n",
       "      <td>...</td>\n",
       "      <td>-1</td>\n",
       "      <td>-1</td>\n",
       "      <td>-1</td>\n",
       "      <td>-1</td>\n",
       "      <td>0.0</td>\n",
       "      <td>-1.0</td>\n",
       "      <td>-1.0</td>\n",
       "      <td>-1.0</td>\n",
       "      <td>-1.0</td>\n",
       "      <td>-1.0</td>\n",
       "    </tr>\n",
       "    <tr>\n",
       "      <th>47509</th>\n",
       "      <td>-1</td>\n",
       "      <td>0</td>\n",
       "      <td>False</td>\n",
       "      <td>-1.0</td>\n",
       "      <td>-1.0</td>\n",
       "      <td>1</td>\n",
       "      <td>954</td>\n",
       "      <td>7528</td>\n",
       "      <td>10</td>\n",
       "      <td>-1.0</td>\n",
       "      <td>...</td>\n",
       "      <td>-1</td>\n",
       "      <td>1</td>\n",
       "      <td>-1</td>\n",
       "      <td>-1</td>\n",
       "      <td>0.0</td>\n",
       "      <td>0.0</td>\n",
       "      <td>-1.0</td>\n",
       "      <td>-1.0</td>\n",
       "      <td>-1.0</td>\n",
       "      <td>-1.0</td>\n",
       "    </tr>\n",
       "    <tr>\n",
       "      <th>47510</th>\n",
       "      <td>-1</td>\n",
       "      <td>0</td>\n",
       "      <td>False</td>\n",
       "      <td>-1.0</td>\n",
       "      <td>-1.0</td>\n",
       "      <td>0</td>\n",
       "      <td>954</td>\n",
       "      <td>7528</td>\n",
       "      <td>10</td>\n",
       "      <td>-1.0</td>\n",
       "      <td>...</td>\n",
       "      <td>-1</td>\n",
       "      <td>-1</td>\n",
       "      <td>-1</td>\n",
       "      <td>-1</td>\n",
       "      <td>1.0</td>\n",
       "      <td>-1.0</td>\n",
       "      <td>-1.0</td>\n",
       "      <td>-1.0</td>\n",
       "      <td>-1.0</td>\n",
       "      <td>-1.0</td>\n",
       "    </tr>\n",
       "    <tr>\n",
       "      <th>47511</th>\n",
       "      <td>1</td>\n",
       "      <td>1</td>\n",
       "      <td>True</td>\n",
       "      <td>-1.0</td>\n",
       "      <td>-1.0</td>\n",
       "      <td>0</td>\n",
       "      <td>954</td>\n",
       "      <td>7528</td>\n",
       "      <td>10</td>\n",
       "      <td>200000.0</td>\n",
       "      <td>...</td>\n",
       "      <td>-1</td>\n",
       "      <td>-1</td>\n",
       "      <td>-1</td>\n",
       "      <td>-1</td>\n",
       "      <td>1.0</td>\n",
       "      <td>0.0</td>\n",
       "      <td>-1.0</td>\n",
       "      <td>-1.0</td>\n",
       "      <td>-1.0</td>\n",
       "      <td>-1.0</td>\n",
       "    </tr>\n",
       "  </tbody>\n",
       "</table>\n",
       "<p>45447 rows × 27 columns</p>\n",
       "</div>"
      ],
      "text/plain": [
       "       Finmo Submit Date  JumpstartFlag  IsFirstTimeBuyer__c  LoanAmount__c  \\\n",
       "Id                                                                            \n",
       "2                     -1              0                False       908000.0   \n",
       "3                     -1              0                False        65000.0   \n",
       "4                     -1              0                False       160000.0   \n",
       "5                     -1              0                False       800000.0   \n",
       "6                     -1              0                False       220000.0   \n",
       "...                  ...            ...                  ...            ...   \n",
       "47507                 -1              0                False           -1.0   \n",
       "47508                 -1              0                False           -1.0   \n",
       "47509                 -1              0                False           -1.0   \n",
       "47510                 -1              0                False           -1.0   \n",
       "47511                  1              1                 True           -1.0   \n",
       "\n",
       "       Loan Amount (50k Bins)  LoanPurpose__c  PropertyCity__c  \\\n",
       "Id                                                               \n",
       "2                    900000.0               0              950   \n",
       "3                     50000.0               1              949   \n",
       "4                    150000.0               0              948   \n",
       "5                    800000.0               0              948   \n",
       "6                    200000.0               0              948   \n",
       "...                       ...             ...              ...   \n",
       "47507                    -1.0               0              954   \n",
       "47508                    -1.0               0              954   \n",
       "47509                    -1.0               1              954   \n",
       "47510                    -1.0               0              954   \n",
       "47511                    -1.0               0              954   \n",
       "\n",
       "       PropertyPostalCode__c  PropertyProvince__c  PurchasePrice__c  ...  \\\n",
       "Id                                                                   ...   \n",
       "2                       7528                    6         1135000.0  ...   \n",
       "3                       7528                    1              -1.0  ...   \n",
       "4                       2994                    6              -1.0  ...   \n",
       "5                       3001                    6              -1.0  ...   \n",
       "6                       2993                    6              -1.0  ...   \n",
       "...                      ...                  ...               ...  ...   \n",
       "47507                   7528                   10              -1.0  ...   \n",
       "47508                   7528                   10              -1.0  ...   \n",
       "47509                   7528                   10              -1.0  ...   \n",
       "47510                   7528                   10              -1.0  ...   \n",
       "47511                   7528                   10          200000.0  ...   \n",
       "\n",
       "       PAL FirstStatusDate  Presentation FirstStatusDate  \\\n",
       "Id                                                         \n",
       "2                       -1                            -1   \n",
       "3                       -1                            -1   \n",
       "4                       -1                            -1   \n",
       "5                       -1                            -1   \n",
       "6                       -1                            -1   \n",
       "...                    ...                           ...   \n",
       "47507                   -1                            -1   \n",
       "47508                   -1                            -1   \n",
       "47509                   -1                             1   \n",
       "47510                   -1                            -1   \n",
       "47511                   -1                            -1   \n",
       "\n",
       "       ApplicationStarted FirstStatusDate  SubmitToLender FirstStatusDate  \\\n",
       "Id                                                                          \n",
       "2                                      -1                              -1   \n",
       "3                                      -1                              -1   \n",
       "4                                      -1                              -1   \n",
       "5                                      -1                              -1   \n",
       "6                                      -1                              -1   \n",
       "...                                   ...                             ...   \n",
       "47507                                  -1                              -1   \n",
       "47508                                  -1                              -1   \n",
       "47509                                  -1                              -1   \n",
       "47510                                  -1                              -1   \n",
       "47511                                  -1                              -1   \n",
       "\n",
       "       Lead_Allocate_DD  Allocate_Credit_DD  Credit_PAL_DD  PAL_Present_DD  \\\n",
       "Id                                                                           \n",
       "2                   8.0                -1.0           -1.0            -1.0   \n",
       "3                  78.0                -1.0           -1.0            -1.0   \n",
       "4                  -1.0                -1.0           -1.0            -1.0   \n",
       "5                  -1.0                -1.0           -1.0            -1.0   \n",
       "6                  10.0                -1.0           -1.0            -1.0   \n",
       "...                 ...                 ...            ...             ...   \n",
       "47507               0.0                 0.0           -1.0            -1.0   \n",
       "47508               0.0                -1.0           -1.0            -1.0   \n",
       "47509               0.0                 0.0           -1.0            -1.0   \n",
       "47510               1.0                -1.0           -1.0            -1.0   \n",
       "47511               1.0                 0.0           -1.0            -1.0   \n",
       "\n",
       "       Present_App_DD  App_Submit_DD  \n",
       "Id                                    \n",
       "2                -1.0           -1.0  \n",
       "3                -1.0           -1.0  \n",
       "4                -1.0           -1.0  \n",
       "5                -1.0           -1.0  \n",
       "6                -1.0           -1.0  \n",
       "...               ...            ...  \n",
       "47507            -1.0           -1.0  \n",
       "47508            -1.0           -1.0  \n",
       "47509            -1.0           -1.0  \n",
       "47510            -1.0           -1.0  \n",
       "47511            -1.0           -1.0  \n",
       "\n",
       "[45447 rows x 27 columns]"
      ]
     },
     "execution_count": 221,
     "metadata": {},
     "output_type": "execute_result"
    }
   ],
   "source": [
    "df_not_submit"
   ]
  },
  {
   "cell_type": "code",
   "execution_count": 222,
   "metadata": {},
   "outputs": [
    {
     "data": {
      "text/plain": [
       "(47378, 27)"
      ]
     },
     "execution_count": 222,
     "metadata": {},
     "output_type": "execute_result"
    }
   ],
   "source": [
    "df.shape"
   ]
  },
  {
   "cell_type": "code",
   "execution_count": 223,
   "metadata": {},
   "outputs": [],
   "source": [
    "# Randomly sample 70% of your dataframe\n",
    "df_percent = df_not_submit.sample(frac=0.042)"
   ]
  },
  {
   "cell_type": "code",
   "execution_count": 224,
   "metadata": {},
   "outputs": [
    {
     "data": {
      "text/html": [
       "<div>\n",
       "<style scoped>\n",
       "    .dataframe tbody tr th:only-of-type {\n",
       "        vertical-align: middle;\n",
       "    }\n",
       "\n",
       "    .dataframe tbody tr th {\n",
       "        vertical-align: top;\n",
       "    }\n",
       "\n",
       "    .dataframe thead th {\n",
       "        text-align: right;\n",
       "    }\n",
       "</style>\n",
       "<table border=\"1\" class=\"dataframe\">\n",
       "  <thead>\n",
       "    <tr style=\"text-align: right;\">\n",
       "      <th></th>\n",
       "      <th>Finmo Submit Date</th>\n",
       "      <th>JumpstartFlag</th>\n",
       "      <th>IsFirstTimeBuyer__c</th>\n",
       "      <th>LoanAmount__c</th>\n",
       "      <th>Loan Amount (50k Bins)</th>\n",
       "      <th>LoanPurpose__c</th>\n",
       "      <th>PropertyCity__c</th>\n",
       "      <th>PropertyPostalCode__c</th>\n",
       "      <th>PropertyProvince__c</th>\n",
       "      <th>PurchasePrice__c</th>\n",
       "      <th>...</th>\n",
       "      <th>PAL FirstStatusDate</th>\n",
       "      <th>Presentation FirstStatusDate</th>\n",
       "      <th>ApplicationStarted FirstStatusDate</th>\n",
       "      <th>SubmitToLender FirstStatusDate</th>\n",
       "      <th>Lead_Allocate_DD</th>\n",
       "      <th>Allocate_Credit_DD</th>\n",
       "      <th>Credit_PAL_DD</th>\n",
       "      <th>PAL_Present_DD</th>\n",
       "      <th>Present_App_DD</th>\n",
       "      <th>App_Submit_DD</th>\n",
       "    </tr>\n",
       "    <tr>\n",
       "      <th>Id</th>\n",
       "      <th></th>\n",
       "      <th></th>\n",
       "      <th></th>\n",
       "      <th></th>\n",
       "      <th></th>\n",
       "      <th></th>\n",
       "      <th></th>\n",
       "      <th></th>\n",
       "      <th></th>\n",
       "      <th></th>\n",
       "      <th></th>\n",
       "      <th></th>\n",
       "      <th></th>\n",
       "      <th></th>\n",
       "      <th></th>\n",
       "      <th></th>\n",
       "      <th></th>\n",
       "      <th></th>\n",
       "      <th></th>\n",
       "      <th></th>\n",
       "      <th></th>\n",
       "    </tr>\n",
       "  </thead>\n",
       "  <tbody>\n",
       "    <tr>\n",
       "      <th>27258</th>\n",
       "      <td>-1</td>\n",
       "      <td>0</td>\n",
       "      <td>False</td>\n",
       "      <td>760000.0</td>\n",
       "      <td>750000.0</td>\n",
       "      <td>0</td>\n",
       "      <td>954</td>\n",
       "      <td>7528</td>\n",
       "      <td>6</td>\n",
       "      <td>950000.0</td>\n",
       "      <td>...</td>\n",
       "      <td>-1</td>\n",
       "      <td>-1</td>\n",
       "      <td>-1</td>\n",
       "      <td>-1</td>\n",
       "      <td>1.0</td>\n",
       "      <td>0.0</td>\n",
       "      <td>-1.0</td>\n",
       "      <td>-1.0</td>\n",
       "      <td>-1.0</td>\n",
       "      <td>-1.0</td>\n",
       "    </tr>\n",
       "    <tr>\n",
       "      <th>30395</th>\n",
       "      <td>-1</td>\n",
       "      <td>0</td>\n",
       "      <td>False</td>\n",
       "      <td>200000.0</td>\n",
       "      <td>200000.0</td>\n",
       "      <td>1</td>\n",
       "      <td>954</td>\n",
       "      <td>7528</td>\n",
       "      <td>6</td>\n",
       "      <td>-1.0</td>\n",
       "      <td>...</td>\n",
       "      <td>-1</td>\n",
       "      <td>-1</td>\n",
       "      <td>-1</td>\n",
       "      <td>-1</td>\n",
       "      <td>1.0</td>\n",
       "      <td>0.0</td>\n",
       "      <td>-1.0</td>\n",
       "      <td>-1.0</td>\n",
       "      <td>-1.0</td>\n",
       "      <td>-1.0</td>\n",
       "    </tr>\n",
       "    <tr>\n",
       "      <th>34141</th>\n",
       "      <td>-1</td>\n",
       "      <td>0</td>\n",
       "      <td>True</td>\n",
       "      <td>390000.0</td>\n",
       "      <td>350000.0</td>\n",
       "      <td>0</td>\n",
       "      <td>954</td>\n",
       "      <td>7528</td>\n",
       "      <td>6</td>\n",
       "      <td>400000.0</td>\n",
       "      <td>...</td>\n",
       "      <td>-1</td>\n",
       "      <td>-1</td>\n",
       "      <td>-1</td>\n",
       "      <td>-1</td>\n",
       "      <td>-1.0</td>\n",
       "      <td>-1.0</td>\n",
       "      <td>-1.0</td>\n",
       "      <td>-1.0</td>\n",
       "      <td>-1.0</td>\n",
       "      <td>-1.0</td>\n",
       "    </tr>\n",
       "    <tr>\n",
       "      <th>36100</th>\n",
       "      <td>-1</td>\n",
       "      <td>0</td>\n",
       "      <td>False</td>\n",
       "      <td>400000.0</td>\n",
       "      <td>400000.0</td>\n",
       "      <td>2</td>\n",
       "      <td>954</td>\n",
       "      <td>7528</td>\n",
       "      <td>6</td>\n",
       "      <td>-1.0</td>\n",
       "      <td>...</td>\n",
       "      <td>-1</td>\n",
       "      <td>-1</td>\n",
       "      <td>-1</td>\n",
       "      <td>-1</td>\n",
       "      <td>-1.0</td>\n",
       "      <td>-1.0</td>\n",
       "      <td>-1.0</td>\n",
       "      <td>-1.0</td>\n",
       "      <td>-1.0</td>\n",
       "      <td>-1.0</td>\n",
       "    </tr>\n",
       "    <tr>\n",
       "      <th>32142</th>\n",
       "      <td>-1</td>\n",
       "      <td>0</td>\n",
       "      <td>False</td>\n",
       "      <td>639000.0</td>\n",
       "      <td>600000.0</td>\n",
       "      <td>1</td>\n",
       "      <td>954</td>\n",
       "      <td>7528</td>\n",
       "      <td>6</td>\n",
       "      <td>-1.0</td>\n",
       "      <td>...</td>\n",
       "      <td>-1</td>\n",
       "      <td>-1</td>\n",
       "      <td>-1</td>\n",
       "      <td>-1</td>\n",
       "      <td>-1.0</td>\n",
       "      <td>-1.0</td>\n",
       "      <td>-1.0</td>\n",
       "      <td>-1.0</td>\n",
       "      <td>-1.0</td>\n",
       "      <td>-1.0</td>\n",
       "    </tr>\n",
       "    <tr>\n",
       "      <th>...</th>\n",
       "      <td>...</td>\n",
       "      <td>...</td>\n",
       "      <td>...</td>\n",
       "      <td>...</td>\n",
       "      <td>...</td>\n",
       "      <td>...</td>\n",
       "      <td>...</td>\n",
       "      <td>...</td>\n",
       "      <td>...</td>\n",
       "      <td>...</td>\n",
       "      <td>...</td>\n",
       "      <td>...</td>\n",
       "      <td>...</td>\n",
       "      <td>...</td>\n",
       "      <td>...</td>\n",
       "      <td>...</td>\n",
       "      <td>...</td>\n",
       "      <td>...</td>\n",
       "      <td>...</td>\n",
       "      <td>...</td>\n",
       "      <td>...</td>\n",
       "    </tr>\n",
       "    <tr>\n",
       "      <th>39354</th>\n",
       "      <td>-1</td>\n",
       "      <td>0</td>\n",
       "      <td>False</td>\n",
       "      <td>405000.0</td>\n",
       "      <td>400000.0</td>\n",
       "      <td>1</td>\n",
       "      <td>954</td>\n",
       "      <td>7528</td>\n",
       "      <td>6</td>\n",
       "      <td>-1.0</td>\n",
       "      <td>...</td>\n",
       "      <td>-1</td>\n",
       "      <td>-1</td>\n",
       "      <td>-1</td>\n",
       "      <td>-1</td>\n",
       "      <td>1.0</td>\n",
       "      <td>-1.0</td>\n",
       "      <td>-1.0</td>\n",
       "      <td>-1.0</td>\n",
       "      <td>-1.0</td>\n",
       "      <td>-1.0</td>\n",
       "    </tr>\n",
       "    <tr>\n",
       "      <th>3204</th>\n",
       "      <td>-1</td>\n",
       "      <td>0</td>\n",
       "      <td>False</td>\n",
       "      <td>170000.0</td>\n",
       "      <td>150000.0</td>\n",
       "      <td>0</td>\n",
       "      <td>671</td>\n",
       "      <td>5409</td>\n",
       "      <td>0</td>\n",
       "      <td>-1.0</td>\n",
       "      <td>...</td>\n",
       "      <td>-1</td>\n",
       "      <td>-1</td>\n",
       "      <td>-1</td>\n",
       "      <td>-1</td>\n",
       "      <td>-1.0</td>\n",
       "      <td>-1.0</td>\n",
       "      <td>-1.0</td>\n",
       "      <td>-1.0</td>\n",
       "      <td>-1.0</td>\n",
       "      <td>-1.0</td>\n",
       "    </tr>\n",
       "    <tr>\n",
       "      <th>27199</th>\n",
       "      <td>-1</td>\n",
       "      <td>0</td>\n",
       "      <td>False</td>\n",
       "      <td>800000.0</td>\n",
       "      <td>800000.0</td>\n",
       "      <td>0</td>\n",
       "      <td>954</td>\n",
       "      <td>7528</td>\n",
       "      <td>6</td>\n",
       "      <td>1000000.0</td>\n",
       "      <td>...</td>\n",
       "      <td>-1</td>\n",
       "      <td>-1</td>\n",
       "      <td>-1</td>\n",
       "      <td>-1</td>\n",
       "      <td>-1.0</td>\n",
       "      <td>-1.0</td>\n",
       "      <td>-1.0</td>\n",
       "      <td>-1.0</td>\n",
       "      <td>-1.0</td>\n",
       "      <td>-1.0</td>\n",
       "    </tr>\n",
       "    <tr>\n",
       "      <th>26177</th>\n",
       "      <td>-1</td>\n",
       "      <td>0</td>\n",
       "      <td>True</td>\n",
       "      <td>1560000.0</td>\n",
       "      <td>1550000.0</td>\n",
       "      <td>0</td>\n",
       "      <td>954</td>\n",
       "      <td>7528</td>\n",
       "      <td>6</td>\n",
       "      <td>1950000.0</td>\n",
       "      <td>...</td>\n",
       "      <td>-1</td>\n",
       "      <td>-1</td>\n",
       "      <td>-1</td>\n",
       "      <td>-1</td>\n",
       "      <td>2.0</td>\n",
       "      <td>0.0</td>\n",
       "      <td>-1.0</td>\n",
       "      <td>-1.0</td>\n",
       "      <td>-1.0</td>\n",
       "      <td>-1.0</td>\n",
       "    </tr>\n",
       "    <tr>\n",
       "      <th>40898</th>\n",
       "      <td>-1</td>\n",
       "      <td>0</td>\n",
       "      <td>False</td>\n",
       "      <td>233000.0</td>\n",
       "      <td>200000.0</td>\n",
       "      <td>2</td>\n",
       "      <td>954</td>\n",
       "      <td>7528</td>\n",
       "      <td>6</td>\n",
       "      <td>-1.0</td>\n",
       "      <td>...</td>\n",
       "      <td>-1</td>\n",
       "      <td>-1</td>\n",
       "      <td>-1</td>\n",
       "      <td>-1</td>\n",
       "      <td>-1.0</td>\n",
       "      <td>-1.0</td>\n",
       "      <td>-1.0</td>\n",
       "      <td>-1.0</td>\n",
       "      <td>-1.0</td>\n",
       "      <td>-1.0</td>\n",
       "    </tr>\n",
       "  </tbody>\n",
       "</table>\n",
       "<p>1909 rows × 27 columns</p>\n",
       "</div>"
      ],
      "text/plain": [
       "       Finmo Submit Date  JumpstartFlag  IsFirstTimeBuyer__c  LoanAmount__c  \\\n",
       "Id                                                                            \n",
       "27258                 -1              0                False       760000.0   \n",
       "30395                 -1              0                False       200000.0   \n",
       "34141                 -1              0                 True       390000.0   \n",
       "36100                 -1              0                False       400000.0   \n",
       "32142                 -1              0                False       639000.0   \n",
       "...                  ...            ...                  ...            ...   \n",
       "39354                 -1              0                False       405000.0   \n",
       "3204                  -1              0                False       170000.0   \n",
       "27199                 -1              0                False       800000.0   \n",
       "26177                 -1              0                 True      1560000.0   \n",
       "40898                 -1              0                False       233000.0   \n",
       "\n",
       "       Loan Amount (50k Bins)  LoanPurpose__c  PropertyCity__c  \\\n",
       "Id                                                               \n",
       "27258                750000.0               0              954   \n",
       "30395                200000.0               1              954   \n",
       "34141                350000.0               0              954   \n",
       "36100                400000.0               2              954   \n",
       "32142                600000.0               1              954   \n",
       "...                       ...             ...              ...   \n",
       "39354                400000.0               1              954   \n",
       "3204                 150000.0               0              671   \n",
       "27199                800000.0               0              954   \n",
       "26177               1550000.0               0              954   \n",
       "40898                200000.0               2              954   \n",
       "\n",
       "       PropertyPostalCode__c  PropertyProvince__c  PurchasePrice__c  ...  \\\n",
       "Id                                                                   ...   \n",
       "27258                   7528                    6          950000.0  ...   \n",
       "30395                   7528                    6              -1.0  ...   \n",
       "34141                   7528                    6          400000.0  ...   \n",
       "36100                   7528                    6              -1.0  ...   \n",
       "32142                   7528                    6              -1.0  ...   \n",
       "...                      ...                  ...               ...  ...   \n",
       "39354                   7528                    6              -1.0  ...   \n",
       "3204                    5409                    0              -1.0  ...   \n",
       "27199                   7528                    6         1000000.0  ...   \n",
       "26177                   7528                    6         1950000.0  ...   \n",
       "40898                   7528                    6              -1.0  ...   \n",
       "\n",
       "       PAL FirstStatusDate  Presentation FirstStatusDate  \\\n",
       "Id                                                         \n",
       "27258                   -1                            -1   \n",
       "30395                   -1                            -1   \n",
       "34141                   -1                            -1   \n",
       "36100                   -1                            -1   \n",
       "32142                   -1                            -1   \n",
       "...                    ...                           ...   \n",
       "39354                   -1                            -1   \n",
       "3204                    -1                            -1   \n",
       "27199                   -1                            -1   \n",
       "26177                   -1                            -1   \n",
       "40898                   -1                            -1   \n",
       "\n",
       "       ApplicationStarted FirstStatusDate  SubmitToLender FirstStatusDate  \\\n",
       "Id                                                                          \n",
       "27258                                  -1                              -1   \n",
       "30395                                  -1                              -1   \n",
       "34141                                  -1                              -1   \n",
       "36100                                  -1                              -1   \n",
       "32142                                  -1                              -1   \n",
       "...                                   ...                             ...   \n",
       "39354                                  -1                              -1   \n",
       "3204                                   -1                              -1   \n",
       "27199                                  -1                              -1   \n",
       "26177                                  -1                              -1   \n",
       "40898                                  -1                              -1   \n",
       "\n",
       "       Lead_Allocate_DD  Allocate_Credit_DD  Credit_PAL_DD  PAL_Present_DD  \\\n",
       "Id                                                                           \n",
       "27258               1.0                 0.0           -1.0            -1.0   \n",
       "30395               1.0                 0.0           -1.0            -1.0   \n",
       "34141              -1.0                -1.0           -1.0            -1.0   \n",
       "36100              -1.0                -1.0           -1.0            -1.0   \n",
       "32142              -1.0                -1.0           -1.0            -1.0   \n",
       "...                 ...                 ...            ...             ...   \n",
       "39354               1.0                -1.0           -1.0            -1.0   \n",
       "3204               -1.0                -1.0           -1.0            -1.0   \n",
       "27199              -1.0                -1.0           -1.0            -1.0   \n",
       "26177               2.0                 0.0           -1.0            -1.0   \n",
       "40898              -1.0                -1.0           -1.0            -1.0   \n",
       "\n",
       "       Present_App_DD  App_Submit_DD  \n",
       "Id                                    \n",
       "27258            -1.0           -1.0  \n",
       "30395            -1.0           -1.0  \n",
       "34141            -1.0           -1.0  \n",
       "36100            -1.0           -1.0  \n",
       "32142            -1.0           -1.0  \n",
       "...               ...            ...  \n",
       "39354            -1.0           -1.0  \n",
       "3204             -1.0           -1.0  \n",
       "27199            -1.0           -1.0  \n",
       "26177            -1.0           -1.0  \n",
       "40898            -1.0           -1.0  \n",
       "\n",
       "[1909 rows x 27 columns]"
      ]
     },
     "execution_count": 224,
     "metadata": {},
     "output_type": "execute_result"
    }
   ],
   "source": [
    "df_percent"
   ]
  },
  {
   "cell_type": "code",
   "execution_count": 227,
   "metadata": {},
   "outputs": [],
   "source": [
    "#df_new = df_submit +df_percent\n",
    "df_new = pd.concat([df_submit, df_percent])"
   ]
  },
  {
   "cell_type": "code",
   "execution_count": 241,
   "metadata": {},
   "outputs": [
    {
     "data": {
      "text/html": [
       "<div>\n",
       "<style scoped>\n",
       "    .dataframe tbody tr th:only-of-type {\n",
       "        vertical-align: middle;\n",
       "    }\n",
       "\n",
       "    .dataframe tbody tr th {\n",
       "        vertical-align: top;\n",
       "    }\n",
       "\n",
       "    .dataframe thead th {\n",
       "        text-align: right;\n",
       "    }\n",
       "</style>\n",
       "<table border=\"1\" class=\"dataframe\">\n",
       "  <thead>\n",
       "    <tr style=\"text-align: right;\">\n",
       "      <th></th>\n",
       "      <th>Finmo Submit Date</th>\n",
       "      <th>JumpstartFlag</th>\n",
       "      <th>IsFirstTimeBuyer__c</th>\n",
       "      <th>LoanAmount__c</th>\n",
       "      <th>Loan Amount (50k Bins)</th>\n",
       "      <th>LoanPurpose__c</th>\n",
       "      <th>PropertyCity__c</th>\n",
       "      <th>PropertyPostalCode__c</th>\n",
       "      <th>PropertyProvince__c</th>\n",
       "      <th>PurchasePrice__c</th>\n",
       "      <th>...</th>\n",
       "      <th>PAL FirstStatusDate</th>\n",
       "      <th>Presentation FirstStatusDate</th>\n",
       "      <th>ApplicationStarted FirstStatusDate</th>\n",
       "      <th>SubmitToLender FirstStatusDate</th>\n",
       "      <th>Lead_Allocate_DD</th>\n",
       "      <th>Allocate_Credit_DD</th>\n",
       "      <th>Credit_PAL_DD</th>\n",
       "      <th>PAL_Present_DD</th>\n",
       "      <th>Present_App_DD</th>\n",
       "      <th>App_Submit_DD</th>\n",
       "    </tr>\n",
       "    <tr>\n",
       "      <th>Id</th>\n",
       "      <th></th>\n",
       "      <th></th>\n",
       "      <th></th>\n",
       "      <th></th>\n",
       "      <th></th>\n",
       "      <th></th>\n",
       "      <th></th>\n",
       "      <th></th>\n",
       "      <th></th>\n",
       "      <th></th>\n",
       "      <th></th>\n",
       "      <th></th>\n",
       "      <th></th>\n",
       "      <th></th>\n",
       "      <th></th>\n",
       "      <th></th>\n",
       "      <th></th>\n",
       "      <th></th>\n",
       "      <th></th>\n",
       "      <th></th>\n",
       "      <th></th>\n",
       "    </tr>\n",
       "  </thead>\n",
       "  <tbody>\n",
       "    <tr>\n",
       "      <th>1</th>\n",
       "      <td>-1</td>\n",
       "      <td>0</td>\n",
       "      <td>False</td>\n",
       "      <td>452500.0</td>\n",
       "      <td>350000.0</td>\n",
       "      <td>1</td>\n",
       "      <td>951</td>\n",
       "      <td>7528</td>\n",
       "      <td>6</td>\n",
       "      <td>-1.0</td>\n",
       "      <td>...</td>\n",
       "      <td>-1</td>\n",
       "      <td>-1</td>\n",
       "      <td>1</td>\n",
       "      <td>1</td>\n",
       "      <td>1.0</td>\n",
       "      <td>1.0</td>\n",
       "      <td>-1.0</td>\n",
       "      <td>-1.0</td>\n",
       "      <td>-1.0</td>\n",
       "      <td>0.0</td>\n",
       "    </tr>\n",
       "    <tr>\n",
       "      <th>61</th>\n",
       "      <td>-1</td>\n",
       "      <td>0</td>\n",
       "      <td>False</td>\n",
       "      <td>420000.0</td>\n",
       "      <td>400000.0</td>\n",
       "      <td>1</td>\n",
       "      <td>944</td>\n",
       "      <td>7528</td>\n",
       "      <td>6</td>\n",
       "      <td>-1.0</td>\n",
       "      <td>...</td>\n",
       "      <td>-1</td>\n",
       "      <td>-1</td>\n",
       "      <td>1</td>\n",
       "      <td>1</td>\n",
       "      <td>73.0</td>\n",
       "      <td>0.0</td>\n",
       "      <td>-1.0</td>\n",
       "      <td>-1.0</td>\n",
       "      <td>-1.0</td>\n",
       "      <td>0.0</td>\n",
       "    </tr>\n",
       "    <tr>\n",
       "      <th>89</th>\n",
       "      <td>-1</td>\n",
       "      <td>0</td>\n",
       "      <td>False</td>\n",
       "      <td>170000.0</td>\n",
       "      <td>150000.0</td>\n",
       "      <td>2</td>\n",
       "      <td>941</td>\n",
       "      <td>7528</td>\n",
       "      <td>6</td>\n",
       "      <td>1200000.0</td>\n",
       "      <td>...</td>\n",
       "      <td>-1</td>\n",
       "      <td>-1</td>\n",
       "      <td>1</td>\n",
       "      <td>1</td>\n",
       "      <td>0.0</td>\n",
       "      <td>0.0</td>\n",
       "      <td>-1.0</td>\n",
       "      <td>-1.0</td>\n",
       "      <td>-1.0</td>\n",
       "      <td>14.0</td>\n",
       "    </tr>\n",
       "    <tr>\n",
       "      <th>98</th>\n",
       "      <td>-1</td>\n",
       "      <td>0</td>\n",
       "      <td>False</td>\n",
       "      <td>900000.0</td>\n",
       "      <td>1050000.0</td>\n",
       "      <td>2</td>\n",
       "      <td>941</td>\n",
       "      <td>7528</td>\n",
       "      <td>10</td>\n",
       "      <td>1800000.0</td>\n",
       "      <td>...</td>\n",
       "      <td>-1</td>\n",
       "      <td>-1</td>\n",
       "      <td>1</td>\n",
       "      <td>1</td>\n",
       "      <td>1.0</td>\n",
       "      <td>0.0</td>\n",
       "      <td>-1.0</td>\n",
       "      <td>-1.0</td>\n",
       "      <td>-1.0</td>\n",
       "      <td>21.0</td>\n",
       "    </tr>\n",
       "    <tr>\n",
       "      <th>103</th>\n",
       "      <td>-1</td>\n",
       "      <td>0</td>\n",
       "      <td>False</td>\n",
       "      <td>610000.0</td>\n",
       "      <td>600000.0</td>\n",
       "      <td>1</td>\n",
       "      <td>941</td>\n",
       "      <td>7528</td>\n",
       "      <td>10</td>\n",
       "      <td>800000.0</td>\n",
       "      <td>...</td>\n",
       "      <td>-1</td>\n",
       "      <td>-1</td>\n",
       "      <td>1</td>\n",
       "      <td>1</td>\n",
       "      <td>3.0</td>\n",
       "      <td>0.0</td>\n",
       "      <td>-1.0</td>\n",
       "      <td>-1.0</td>\n",
       "      <td>-1.0</td>\n",
       "      <td>4.0</td>\n",
       "    </tr>\n",
       "    <tr>\n",
       "      <th>...</th>\n",
       "      <td>...</td>\n",
       "      <td>...</td>\n",
       "      <td>...</td>\n",
       "      <td>...</td>\n",
       "      <td>...</td>\n",
       "      <td>...</td>\n",
       "      <td>...</td>\n",
       "      <td>...</td>\n",
       "      <td>...</td>\n",
       "      <td>...</td>\n",
       "      <td>...</td>\n",
       "      <td>...</td>\n",
       "      <td>...</td>\n",
       "      <td>...</td>\n",
       "      <td>...</td>\n",
       "      <td>...</td>\n",
       "      <td>...</td>\n",
       "      <td>...</td>\n",
       "      <td>...</td>\n",
       "      <td>...</td>\n",
       "      <td>...</td>\n",
       "    </tr>\n",
       "    <tr>\n",
       "      <th>39354</th>\n",
       "      <td>-1</td>\n",
       "      <td>0</td>\n",
       "      <td>False</td>\n",
       "      <td>405000.0</td>\n",
       "      <td>400000.0</td>\n",
       "      <td>1</td>\n",
       "      <td>954</td>\n",
       "      <td>7528</td>\n",
       "      <td>6</td>\n",
       "      <td>-1.0</td>\n",
       "      <td>...</td>\n",
       "      <td>-1</td>\n",
       "      <td>-1</td>\n",
       "      <td>-1</td>\n",
       "      <td>-1</td>\n",
       "      <td>1.0</td>\n",
       "      <td>-1.0</td>\n",
       "      <td>-1.0</td>\n",
       "      <td>-1.0</td>\n",
       "      <td>-1.0</td>\n",
       "      <td>-1.0</td>\n",
       "    </tr>\n",
       "    <tr>\n",
       "      <th>3204</th>\n",
       "      <td>-1</td>\n",
       "      <td>0</td>\n",
       "      <td>False</td>\n",
       "      <td>170000.0</td>\n",
       "      <td>150000.0</td>\n",
       "      <td>0</td>\n",
       "      <td>671</td>\n",
       "      <td>5409</td>\n",
       "      <td>0</td>\n",
       "      <td>-1.0</td>\n",
       "      <td>...</td>\n",
       "      <td>-1</td>\n",
       "      <td>-1</td>\n",
       "      <td>-1</td>\n",
       "      <td>-1</td>\n",
       "      <td>-1.0</td>\n",
       "      <td>-1.0</td>\n",
       "      <td>-1.0</td>\n",
       "      <td>-1.0</td>\n",
       "      <td>-1.0</td>\n",
       "      <td>-1.0</td>\n",
       "    </tr>\n",
       "    <tr>\n",
       "      <th>27199</th>\n",
       "      <td>-1</td>\n",
       "      <td>0</td>\n",
       "      <td>False</td>\n",
       "      <td>800000.0</td>\n",
       "      <td>800000.0</td>\n",
       "      <td>0</td>\n",
       "      <td>954</td>\n",
       "      <td>7528</td>\n",
       "      <td>6</td>\n",
       "      <td>1000000.0</td>\n",
       "      <td>...</td>\n",
       "      <td>-1</td>\n",
       "      <td>-1</td>\n",
       "      <td>-1</td>\n",
       "      <td>-1</td>\n",
       "      <td>-1.0</td>\n",
       "      <td>-1.0</td>\n",
       "      <td>-1.0</td>\n",
       "      <td>-1.0</td>\n",
       "      <td>-1.0</td>\n",
       "      <td>-1.0</td>\n",
       "    </tr>\n",
       "    <tr>\n",
       "      <th>26177</th>\n",
       "      <td>-1</td>\n",
       "      <td>0</td>\n",
       "      <td>True</td>\n",
       "      <td>1560000.0</td>\n",
       "      <td>1550000.0</td>\n",
       "      <td>0</td>\n",
       "      <td>954</td>\n",
       "      <td>7528</td>\n",
       "      <td>6</td>\n",
       "      <td>1950000.0</td>\n",
       "      <td>...</td>\n",
       "      <td>-1</td>\n",
       "      <td>-1</td>\n",
       "      <td>-1</td>\n",
       "      <td>-1</td>\n",
       "      <td>2.0</td>\n",
       "      <td>0.0</td>\n",
       "      <td>-1.0</td>\n",
       "      <td>-1.0</td>\n",
       "      <td>-1.0</td>\n",
       "      <td>-1.0</td>\n",
       "    </tr>\n",
       "    <tr>\n",
       "      <th>40898</th>\n",
       "      <td>-1</td>\n",
       "      <td>0</td>\n",
       "      <td>False</td>\n",
       "      <td>233000.0</td>\n",
       "      <td>200000.0</td>\n",
       "      <td>2</td>\n",
       "      <td>954</td>\n",
       "      <td>7528</td>\n",
       "      <td>6</td>\n",
       "      <td>-1.0</td>\n",
       "      <td>...</td>\n",
       "      <td>-1</td>\n",
       "      <td>-1</td>\n",
       "      <td>-1</td>\n",
       "      <td>-1</td>\n",
       "      <td>-1.0</td>\n",
       "      <td>-1.0</td>\n",
       "      <td>-1.0</td>\n",
       "      <td>-1.0</td>\n",
       "      <td>-1.0</td>\n",
       "      <td>-1.0</td>\n",
       "    </tr>\n",
       "  </tbody>\n",
       "</table>\n",
       "<p>3840 rows × 27 columns</p>\n",
       "</div>"
      ],
      "text/plain": [
       "       Finmo Submit Date  JumpstartFlag  IsFirstTimeBuyer__c  LoanAmount__c  \\\n",
       "Id                                                                            \n",
       "1                     -1              0                False       452500.0   \n",
       "61                    -1              0                False       420000.0   \n",
       "89                    -1              0                False       170000.0   \n",
       "98                    -1              0                False       900000.0   \n",
       "103                   -1              0                False       610000.0   \n",
       "...                  ...            ...                  ...            ...   \n",
       "39354                 -1              0                False       405000.0   \n",
       "3204                  -1              0                False       170000.0   \n",
       "27199                 -1              0                False       800000.0   \n",
       "26177                 -1              0                 True      1560000.0   \n",
       "40898                 -1              0                False       233000.0   \n",
       "\n",
       "       Loan Amount (50k Bins)  LoanPurpose__c  PropertyCity__c  \\\n",
       "Id                                                               \n",
       "1                    350000.0               1              951   \n",
       "61                   400000.0               1              944   \n",
       "89                   150000.0               2              941   \n",
       "98                  1050000.0               2              941   \n",
       "103                  600000.0               1              941   \n",
       "...                       ...             ...              ...   \n",
       "39354                400000.0               1              954   \n",
       "3204                 150000.0               0              671   \n",
       "27199                800000.0               0              954   \n",
       "26177               1550000.0               0              954   \n",
       "40898                200000.0               2              954   \n",
       "\n",
       "       PropertyPostalCode__c  PropertyProvince__c  PurchasePrice__c  ...  \\\n",
       "Id                                                                   ...   \n",
       "1                       7528                    6              -1.0  ...   \n",
       "61                      7528                    6              -1.0  ...   \n",
       "89                      7528                    6         1200000.0  ...   \n",
       "98                      7528                   10         1800000.0  ...   \n",
       "103                     7528                   10          800000.0  ...   \n",
       "...                      ...                  ...               ...  ...   \n",
       "39354                   7528                    6              -1.0  ...   \n",
       "3204                    5409                    0              -1.0  ...   \n",
       "27199                   7528                    6         1000000.0  ...   \n",
       "26177                   7528                    6         1950000.0  ...   \n",
       "40898                   7528                    6              -1.0  ...   \n",
       "\n",
       "       PAL FirstStatusDate  Presentation FirstStatusDate  \\\n",
       "Id                                                         \n",
       "1                       -1                            -1   \n",
       "61                      -1                            -1   \n",
       "89                      -1                            -1   \n",
       "98                      -1                            -1   \n",
       "103                     -1                            -1   \n",
       "...                    ...                           ...   \n",
       "39354                   -1                            -1   \n",
       "3204                    -1                            -1   \n",
       "27199                   -1                            -1   \n",
       "26177                   -1                            -1   \n",
       "40898                   -1                            -1   \n",
       "\n",
       "       ApplicationStarted FirstStatusDate  SubmitToLender FirstStatusDate  \\\n",
       "Id                                                                          \n",
       "1                                       1                               1   \n",
       "61                                      1                               1   \n",
       "89                                      1                               1   \n",
       "98                                      1                               1   \n",
       "103                                     1                               1   \n",
       "...                                   ...                             ...   \n",
       "39354                                  -1                              -1   \n",
       "3204                                   -1                              -1   \n",
       "27199                                  -1                              -1   \n",
       "26177                                  -1                              -1   \n",
       "40898                                  -1                              -1   \n",
       "\n",
       "       Lead_Allocate_DD  Allocate_Credit_DD  Credit_PAL_DD  PAL_Present_DD  \\\n",
       "Id                                                                           \n",
       "1                   1.0                 1.0           -1.0            -1.0   \n",
       "61                 73.0                 0.0           -1.0            -1.0   \n",
       "89                  0.0                 0.0           -1.0            -1.0   \n",
       "98                  1.0                 0.0           -1.0            -1.0   \n",
       "103                 3.0                 0.0           -1.0            -1.0   \n",
       "...                 ...                 ...            ...             ...   \n",
       "39354               1.0                -1.0           -1.0            -1.0   \n",
       "3204               -1.0                -1.0           -1.0            -1.0   \n",
       "27199              -1.0                -1.0           -1.0            -1.0   \n",
       "26177               2.0                 0.0           -1.0            -1.0   \n",
       "40898              -1.0                -1.0           -1.0            -1.0   \n",
       "\n",
       "       Present_App_DD  App_Submit_DD  \n",
       "Id                                    \n",
       "1                -1.0            0.0  \n",
       "61               -1.0            0.0  \n",
       "89               -1.0           14.0  \n",
       "98               -1.0           21.0  \n",
       "103              -1.0            4.0  \n",
       "...               ...            ...  \n",
       "39354            -1.0           -1.0  \n",
       "3204             -1.0           -1.0  \n",
       "27199            -1.0           -1.0  \n",
       "26177            -1.0           -1.0  \n",
       "40898            -1.0           -1.0  \n",
       "\n",
       "[3840 rows x 27 columns]"
      ]
     },
     "execution_count": 241,
     "metadata": {},
     "output_type": "execute_result"
    }
   ],
   "source": [
    "df_new"
   ]
  },
  {
   "cell_type": "code",
   "execution_count": 246,
   "metadata": {},
   "outputs": [],
   "source": [
    "df_new.sort_values(by='Id', ascending=True)\n",
    "df_new.to_csv('Edison_random_sample.csv', encoding='utf-8')"
   ]
  },
  {
   "cell_type": "code",
   "execution_count": null,
   "metadata": {},
   "outputs": [],
   "source": []
  }
 ],
 "metadata": {
  "kernelspec": {
   "display_name": "Python 3 (ipykernel)",
   "language": "python",
   "name": "python3"
  },
  "language_info": {
   "codemirror_mode": {
    "name": "ipython",
    "version": 3
   },
   "file_extension": ".py",
   "mimetype": "text/x-python",
   "name": "python",
   "nbconvert_exporter": "python",
   "pygments_lexer": "ipython3",
   "version": "3.8.12"
  }
 },
 "nbformat": 4,
 "nbformat_minor": 4
}
